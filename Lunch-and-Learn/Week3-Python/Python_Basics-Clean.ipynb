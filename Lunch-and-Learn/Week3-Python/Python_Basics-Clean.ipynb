{
 "cells": [
  {
   "cell_type": "markdown",
   "metadata": {},
   "source": [
    "# Intrduction to Python: A Whirlwind Tour"
   ]
  },
  {
   "cell_type": "markdown",
   "metadata": {},
   "source": [
    "Today's lunch and learn session will focus on Python and we will walk through the notebook together. \n",
    "\n",
    "* Python Fundamentals\n",
    "* Basic Applications\n",
    "* Advanced Applications"
   ]
  },
  {
   "cell_type": "markdown",
   "metadata": {},
   "source": [
    "The following notebook was created by using material built by the authors cited here (References):\n",
    "\n",
    "* Quantitative Economics with Python, Thomas Sargent and John Stachurski\n",
    "* Python Bootcamp 2015, Berkeley, Joshua Bloom"
   ]
  },
  {
   "cell_type": "markdown",
   "metadata": {},
   "source": [
    "# Programming in Python"
   ]
  },
  {
   "cell_type": "markdown",
   "metadata": {
    "collapsed": true
   },
   "source": [
    "# Calculator #\n",
    "\n",
    "> there are `int` and `float` (but not doubles)"
   ]
  },
  {
   "cell_type": "code",
   "execution_count": 2,
   "metadata": {
    "collapsed": false
   },
   "outputs": [
    {
     "name": "stdout",
     "output_type": "stream",
     "text": [
      "Kalman_and_Bayesian_Filters_in_Python.pdf\r\n",
      "Python_Basics-Clean.ipynb\r\n",
      "Python_Basics.ipynb\r\n",
      "array_memory_strides.png\r\n",
      "dessert.png\r\n",
      "\u001b[34mpython-bootcamp\u001b[m\u001b[m\r\n",
      "temp1.py\r\n"
     ]
    }
   ],
   "source": [
    "!ls"
   ]
  },
  {
   "cell_type": "code",
   "execution_count": 3,
   "metadata": {
    "collapsed": false
   },
   "outputs": [
    {
     "name": "stdout",
     "output_type": "stream",
     "text": [
      "4\n"
     ]
    }
   ],
   "source": [
    "print(2 + 2)"
   ]
  },
  {
   "cell_type": "code",
   "execution_count": 4,
   "metadata": {
    "collapsed": false
   },
   "outputs": [
    {
     "data": {
      "text/plain": [
       "4"
      ]
     },
     "execution_count": 4,
     "metadata": {},
     "output_type": "execute_result"
    }
   ],
   "source": [
    "2 + 2 "
   ]
  },
  {
   "cell_type": "code",
   "execution_count": 5,
   "metadata": {
    "collapsed": false
   },
   "outputs": [
    {
     "name": "stdout",
     "output_type": "stream",
     "text": [
      "4.1\n"
     ]
    }
   ],
   "source": [
    "print(2.1 + 2)"
   ]
  },
  {
   "cell_type": "code",
   "execution_count": null,
   "metadata": {
    "collapsed": false
   },
   "outputs": [],
   "source": [
    "2.1 + 2 == 4.0999999999999996"
   ]
  },
  {
   "cell_type": "markdown",
   "metadata": {},
   "source": [
    "  - Python stores floats as their byte representation so is limited by the same 16-bit issues as most other languages\n",
    "\n",
    "  - In doing calculations, unless you specify otherwise, Python will store the results in the smallest-byte representation"
   ]
  },
  {
   "cell_type": "markdown",
   "metadata": {
    "collapsed": true
   },
   "source": [
    "> 1. Indentation matters!\n",
    "> 2. When you mess up, Python is gentle\n",
    "> 3. \\# starts a comments (until the end of the line)"
   ]
  },
  {
   "cell_type": "code",
   "execution_count": 6,
   "metadata": {
    "collapsed": false
   },
   "outputs": [
    {
     "ename": "IndentationError",
     "evalue": "unexpected indent (<ipython-input-6-fc8b7c49e4fd>, line 2)",
     "output_type": "error",
     "traceback": [
      "\u001b[0;36m  File \u001b[0;32m\"<ipython-input-6-fc8b7c49e4fd>\"\u001b[0;36m, line \u001b[0;32m2\u001b[0m\n\u001b[0;31m    2 + 2\u001b[0m\n\u001b[0m    ^\u001b[0m\n\u001b[0;31mIndentationError\u001b[0m\u001b[0;31m:\u001b[0m unexpected indent\n"
     ]
    }
   ],
   "source": [
    "print(2 + 2)\n",
    "  2 + 2"
   ]
  },
  {
   "cell_type": "code",
   "execution_count": null,
   "metadata": {
    "collapsed": false
   },
   "outputs": [],
   "source": [
    "2 # this is a comment and is not printed"
   ]
  },
  {
   "cell_type": "markdown",
   "metadata": {},
   "source": [
    "`int` can be looong."
   ]
  },
  {
   "cell_type": "code",
   "execution_count": 7,
   "metadata": {
    "collapsed": false
   },
   "outputs": [
    {
     "data": {
      "text/plain": [
       "150130937545296572356771972164254457814047970568738777235893533016064"
      ]
     },
     "execution_count": 7,
     "metadata": {},
     "output_type": "execute_result"
    }
   ],
   "source": [
    "42**42"
   ]
  },
  {
   "cell_type": "code",
   "execution_count": 8,
   "metadata": {
    "collapsed": false
   },
   "outputs": [
    {
     "data": {
      "text/plain": [
       "227"
      ]
     },
     "execution_count": 8,
     "metadata": {},
     "output_type": "execute_result"
    }
   ],
   "source": [
    "(42**42).bit_length()"
   ]
  },
  {
   "cell_type": "code",
   "execution_count": null,
   "metadata": {
    "collapsed": false
   },
   "outputs": [],
   "source": [
    "bin(42**42)"
   ]
  },
  {
   "cell_type": "code",
   "execution_count": null,
   "metadata": {
    "collapsed": false
   },
   "outputs": [],
   "source": [
    "2/2"
   ]
  },
  {
   "cell_type": "markdown",
   "metadata": {},
   "source": [
    "Division always leads to a float"
   ]
  },
  {
   "cell_type": "code",
   "execution_count": null,
   "metadata": {
    "collapsed": false
   },
   "outputs": [],
   "source": [
    "2/2.0"
   ]
  },
  {
   "cell_type": "markdown",
   "metadata": {},
   "source": [
    "** Calculator **\n",
    "> there are also `complex` types"
   ]
  },
  {
   "cell_type": "code",
   "execution_count": 9,
   "metadata": {
    "collapsed": false
   },
   "outputs": [
    {
     "data": {
      "text/plain": [
       "(1+2j)"
      ]
     },
     "execution_count": 9,
     "metadata": {},
     "output_type": "execute_result"
    }
   ],
   "source": [
    "complex(1,2)"
   ]
  },
  {
   "cell_type": "code",
   "execution_count": 10,
   "metadata": {
    "collapsed": false
   },
   "outputs": [
    {
     "data": {
      "text/plain": [
       "(1+2j)"
      ]
     },
     "execution_count": 10,
     "metadata": {},
     "output_type": "execute_result"
    }
   ],
   "source": [
    "1+2j"
   ]
  },
  {
   "cell_type": "code",
   "execution_count": null,
   "metadata": {
    "collapsed": false
   },
   "outputs": [],
   "source": [
    "1 + 2j - 2j"
   ]
  },
  {
   "cell_type": "markdown",
   "metadata": {},
   "source": [
    "Let's do some math"
   ]
  },
  {
   "cell_type": "code",
   "execution_count": 11,
   "metadata": {
    "collapsed": false
   },
   "outputs": [
    {
     "data": {
      "text/plain": [
       "1.0"
      ]
     },
     "execution_count": 11,
     "metadata": {},
     "output_type": "execute_result"
    }
   ],
   "source": [
    "(3.0*10.0 - 25.0)/5.0"
   ]
  },
  {
   "cell_type": "code",
   "execution_count": 12,
   "metadata": {
    "collapsed": false
   },
   "outputs": [
    {
     "name": "stdout",
     "output_type": "stream",
     "text": [
      "3.085e+24\n"
     ]
    }
   ],
   "source": [
    "print(3.085e18*1e6)  # this is a Megaparsec in units of cm!"
   ]
  },
  {
   "cell_type": "code",
   "execution_count": 13,
   "metadata": {
    "collapsed": false
   },
   "outputs": [
    {
     "name": "stdout",
     "output_type": "stream",
     "text": [
      "4.9\n"
     ]
    }
   ],
   "source": [
    "t = 1.0   # declare a variable t (time)\n",
    "accel = 9.8  # acceleration in units of m/s^2\n",
    "# distance travelled in time t seconds is 1/2 a*t**2\n",
    "dist = 0.5*accel*t*t\n",
    "print(dist) # this is the distance in meters"
   ]
  },
  {
   "cell_type": "code",
   "execution_count": 22,
   "metadata": {
    "collapsed": false
   },
   "outputs": [
    {
     "name": "stdout",
     "output_type": "stream",
     "text": [
      "4.9\n"
     ]
    }
   ],
   "source": [
    "dist1 = accel*(t**2)/2\n",
    "print(dist1)"
   ]
  },
  {
   "cell_type": "code",
   "execution_count": 23,
   "metadata": {
    "collapsed": false
   },
   "outputs": [
    {
     "name": "stdout",
     "output_type": "stream",
     "text": [
      "4.9\n"
     ]
    }
   ],
   "source": [
    "dist2 = 0.5*accel*pow(t,2)\n",
    "print(dist2)"
   ]
  },
  {
   "cell_type": "markdown",
   "metadata": {},
   "source": [
    "   - **variables** are assigned on the fly\n",
    "   - multiplication, division, exponents as you expect"
   ]
  },
  {
   "cell_type": "code",
   "execution_count": null,
   "metadata": {
    "collapsed": false
   },
   "outputs": [],
   "source": [
    "print(6 / 5) ; print(9 / 5)"
   ]
  },
  {
   "cell_type": "code",
   "execution_count": null,
   "metadata": {
    "collapsed": false
   },
   "outputs": [],
   "source": [
    "print(6 // 5) ; print(9 // 5) #  double-slash integer division returns the floor"
   ]
  },
  {
   "cell_type": "code",
   "execution_count": 14,
   "metadata": {
    "collapsed": false
   },
   "outputs": [
    {
     "data": {
      "text/plain": [
       "3"
      ]
     },
     "execution_count": 14,
     "metadata": {},
     "output_type": "execute_result"
    }
   ],
   "source": [
    "18 % 5 # mod operator"
   ]
  },
  {
   "cell_type": "code",
   "execution_count": 15,
   "metadata": {
    "collapsed": false
   },
   "outputs": [
    {
     "data": {
      "text/plain": [
       "4"
      ]
     },
     "execution_count": 15,
     "metadata": {},
     "output_type": "execute_result"
    }
   ],
   "source": [
    "1 << 2 ## shift: move the number 1 by two bits to the left\n",
    "       ##        that is make a new number 100 (base 2)"
   ]
  },
  {
   "cell_type": "code",
   "execution_count": 16,
   "metadata": {
    "collapsed": false
   },
   "outputs": [
    {
     "data": {
      "text/plain": [
       "2"
      ]
     },
     "execution_count": 16,
     "metadata": {},
     "output_type": "execute_result"
    }
   ],
   "source": [
    "5 >> 1 ## shift: move the number 5 = 101 (base 2) one to\n",
    "           ## to the right (10 = 2)"
   ]
  },
  {
   "cell_type": "code",
   "execution_count": 18,
   "metadata": {
    "collapsed": false
   },
   "outputs": [
    {
     "data": {
      "text/plain": [
       "3"
      ]
     },
     "execution_count": 18,
     "metadata": {},
     "output_type": "execute_result"
    }
   ],
   "source": [
    "x = 2 ; y = 3  ## assign two variables on the same line!\n",
    "x | y          ## bitwise OR"
   ]
  },
  {
   "cell_type": "code",
   "execution_count": 20,
   "metadata": {
    "collapsed": false
   },
   "outputs": [
    {
     "data": {
      "text/plain": [
       "1"
      ]
     },
     "execution_count": 20,
     "metadata": {},
     "output_type": "execute_result"
    }
   ],
   "source": [
    "x ^ y          ## exclusive OR (10 ^ 11 = 01)"
   ]
  },
  {
   "cell_type": "code",
   "execution_count": null,
   "metadata": {
    "collapsed": false
   },
   "outputs": [],
   "source": [
    "x & y          ## bitwise AND"
   ]
  },
  {
   "cell_type": "code",
   "execution_count": null,
   "metadata": {
    "collapsed": false
   },
   "outputs": [],
   "source": [
    "x = x ^ y ; print(x)"
   ]
  },
  {
   "cell_type": "code",
   "execution_count": null,
   "metadata": {
    "collapsed": false
   },
   "outputs": [],
   "source": [
    "x += 3 ; print(x)"
   ]
  },
  {
   "cell_type": "code",
   "execution_count": null,
   "metadata": {
    "collapsed": false
   },
   "outputs": [],
   "source": [
    "x /= 2.0 ; print(x)"
   ]
  },
  {
   "cell_type": "markdown",
   "metadata": {},
   "source": [
    "## Relationships ##"
   ]
  },
  {
   "cell_type": "code",
   "execution_count": 24,
   "metadata": {
    "collapsed": false
   },
   "outputs": [
    {
     "data": {
      "text/plain": [
       "True"
      ]
     },
     "execution_count": 24,
     "metadata": {},
     "output_type": "execute_result"
    }
   ],
   "source": [
    "# from before dist1  = 4.9 and dist = 4.9\n",
    "dist1 == dist"
   ]
  },
  {
   "cell_type": "code",
   "execution_count": 25,
   "metadata": {
    "collapsed": false
   },
   "outputs": [
    {
     "data": {
      "text/plain": [
       "True"
      ]
     },
     "execution_count": 25,
     "metadata": {},
     "output_type": "execute_result"
    }
   ],
   "source": [
    "dist < 10"
   ]
  },
  {
   "cell_type": "code",
   "execution_count": 26,
   "metadata": {
    "collapsed": false
   },
   "outputs": [
    {
     "data": {
      "text/plain": [
       "True"
      ]
     },
     "execution_count": 26,
     "metadata": {},
     "output_type": "execute_result"
    }
   ],
   "source": [
    "dist <= 4.9"
   ]
  },
  {
   "cell_type": "code",
   "execution_count": 27,
   "metadata": {
    "collapsed": false
   },
   "outputs": [
    {
     "ename": "TypeError",
     "evalue": "unorderable types: float() < complex()",
     "output_type": "error",
     "traceback": [
      "\u001b[0;31m---------------------------------------------------------------------------\u001b[0m",
      "\u001b[0;31mTypeError\u001b[0m                                 Traceback (most recent call last)",
      "\u001b[0;32m<ipython-input-27-8db11a0aca8e>\u001b[0m in \u001b[0;36m<module>\u001b[0;34m()\u001b[0m\n\u001b[0;32m----> 1\u001b[0;31m \u001b[0mdist\u001b[0m \u001b[0;34m<\u001b[0m \u001b[0;34m(\u001b[0m\u001b[0;36m10\u001b[0m \u001b[0;34m+\u001b[0m \u001b[0;36m2j\u001b[0m\u001b[0;34m)\u001b[0m\u001b[0;34m\u001b[0m\u001b[0m\n\u001b[0m",
      "\u001b[0;31mTypeError\u001b[0m: unorderable types: float() < complex()"
     ]
    }
   ],
   "source": [
    "dist < (10 + 2j)"
   ]
  },
  {
   "cell_type": "code",
   "execution_count": null,
   "metadata": {
    "collapsed": false
   },
   "outputs": [],
   "source": [
    "dist < -2.0"
   ]
  },
  {
   "cell_type": "code",
   "execution_count": null,
   "metadata": {
    "collapsed": false
   },
   "outputs": [],
   "source": [
    "dist != 3.1415"
   ]
  },
  {
   "cell_type": "markdown",
   "metadata": {},
   "source": [
    "** More on Variables & Types **"
   ]
  },
  {
   "cell_type": "code",
   "execution_count": 28,
   "metadata": {
    "collapsed": false
   },
   "outputs": [
    {
     "data": {
      "text/plain": [
       "True"
      ]
     },
     "execution_count": 28,
     "metadata": {},
     "output_type": "execute_result"
    }
   ],
   "source": [
    "0 == False"
   ]
  },
  {
   "cell_type": "code",
   "execution_count": 29,
   "metadata": {
    "collapsed": false
   },
   "outputs": [
    {
     "data": {
      "text/plain": [
       "True"
      ]
     },
     "execution_count": 29,
     "metadata": {},
     "output_type": "execute_result"
    }
   ],
   "source": [
    "not False"
   ]
  },
  {
   "cell_type": "code",
   "execution_count": null,
   "metadata": {
    "collapsed": false
   },
   "outputs": [],
   "source": [
    "0.0 == False"
   ]
  },
  {
   "cell_type": "code",
   "execution_count": null,
   "metadata": {
    "collapsed": false
   },
   "outputs": [],
   "source": [
    "not (10.0 - 10.0)"
   ]
  },
  {
   "cell_type": "code",
   "execution_count": 30,
   "metadata": {
    "collapsed": false
   },
   "outputs": [
    {
     "data": {
      "text/plain": [
       "False"
      ]
     },
     "execution_count": 30,
     "metadata": {},
     "output_type": "execute_result"
    }
   ],
   "source": [
    "not -1"
   ]
  },
  {
   "cell_type": "code",
   "execution_count": null,
   "metadata": {
    "collapsed": false
   },
   "outputs": [],
   "source": [
    "not 3.1415"
   ]
  },
  {
   "cell_type": "code",
   "execution_count": 31,
   "metadata": {
    "collapsed": false
   },
   "outputs": [
    {
     "data": {
      "text/plain": [
       "False"
      ]
     },
     "execution_count": 31,
     "metadata": {},
     "output_type": "execute_result"
    }
   ],
   "source": [
    "x = None    # None is something special. Not true or false\n",
    "None == False"
   ]
  },
  {
   "cell_type": "code",
   "execution_count": null,
   "metadata": {
    "collapsed": false
   },
   "outputs": [],
   "source": [
    "None == True"
   ]
  },
  {
   "cell_type": "code",
   "execution_count": 32,
   "metadata": {
    "collapsed": false
   },
   "outputs": [
    {
     "data": {
      "text/plain": [
       "True"
      ]
     },
     "execution_count": 32,
     "metadata": {},
     "output_type": "execute_result"
    }
   ],
   "source": [
    "None == None"
   ]
  },
  {
   "cell_type": "code",
   "execution_count": 33,
   "metadata": {
    "collapsed": false
   },
   "outputs": [
    {
     "data": {
      "text/plain": [
       "True"
      ]
     },
     "execution_count": 33,
     "metadata": {},
     "output_type": "execute_result"
    }
   ],
   "source": [
    "False or True"
   ]
  },
  {
   "cell_type": "code",
   "execution_count": null,
   "metadata": {
    "collapsed": false
   },
   "outputs": [],
   "source": [
    "False and True"
   ]
  },
  {
   "cell_type": "markdown",
   "metadata": {},
   "source": [
    "Refer to Python Bootcamp 01_basic_training for more fundamentals"
   ]
  },
  {
   "cell_type": "markdown",
   "metadata": {},
   "source": [
    "## 1. Control (Flow)"
   ]
  },
  {
   "cell_type": "markdown",
   "metadata": {},
   "source": [
    "Python has pretty much all of what you use:\n",
    "\n",
    "    if...elif...else,  for,  while\n",
    "\n",
    "As well as:\n",
    "\n",
    "    break, continue (within loops)\n",
    "    \n",
    "Does not have:\n",
    "\n",
    "    case (explicitly), goto\n",
    "\n",
    "Does have:  `pass`"
   ]
  },
  {
   "cell_type": "markdown",
   "metadata": {},
   "source": [
    "### Flow is done within blocks (where indentation matters)\n"
   ]
  },
  {
   "cell_type": "code",
   "execution_count": 34,
   "metadata": {
    "collapsed": false
   },
   "outputs": [
    {
     "name": "stdout",
     "output_type": "stream",
     "text": [
      "I love Cheng\n"
     ]
    }
   ],
   "source": [
    "x = 1\n",
    "if x > 0:\n",
    "    print(\"I love Cheng\")\n",
    "else:\n",
    "    print(\"Really though it's a love-hate relationship \")"
   ]
  },
  {
   "cell_type": "code",
   "execution_count": 35,
   "metadata": {
    "collapsed": false
   },
   "outputs": [
    {
     "name": "stdout",
     "output_type": "stream",
     "text": [
      "I love Cheng\n"
     ]
    }
   ],
   "source": [
    "x = 1\n",
    "if x > 0:\n",
    "    print(\"I love Cheng\")\n",
    "else:\n",
    "        print(\"Really though it's a love-hate relationship \")"
   ]
  },
  {
   "cell_type": "markdown",
   "metadata": {},
   "source": [
    "Indentations with the same block must be the same but not within different blocks (though this is ugly)"
   ]
  },
  {
   "cell_type": "markdown",
   "metadata": {},
   "source": [
    "case statements can be constructed with \n",
    "just a bunch of if, elif,...else"
   ]
  },
  {
   "cell_type": "code",
   "execution_count": 36,
   "metadata": {
    "collapsed": false
   },
   "outputs": [
    {
     "name": "stdout",
     "output_type": "stream",
     "text": [
      "dude\n"
     ]
    }
   ],
   "source": [
    "if x < 1:\n",
    "     print(\"t\")\n",
    "elif x > 100:\n",
    "    print(\"yo\")\n",
    "else:\n",
    "    print(\"dude\")"
   ]
  },
  {
   "cell_type": "markdown",
   "metadata": {},
   "source": [
    "ordering matters. The first block of `True` in an if/elif gets executed then everything else does not"
   ]
  },
  {
   "cell_type": "markdown",
   "metadata": {},
   "source": [
    "blocks cannot be empty"
   ]
  },
  {
   "cell_type": "code",
   "execution_count": 39,
   "metadata": {
    "collapsed": false
   },
   "outputs": [
    {
     "ename": "SyntaxError",
     "evalue": "unexpected EOF while parsing (<ipython-input-39-51470879c358>, line 5)",
     "output_type": "error",
     "traceback": [
      "\u001b[0;36m  File \u001b[0;32m\"<ipython-input-39-51470879c358>\"\u001b[0;36m, line \u001b[0;32m5\u001b[0m\n\u001b[0;31m    # I'm fine with that. I'll do nothing\u001b[0m\n\u001b[0m                                         ^\u001b[0m\n\u001b[0;31mSyntaxError\u001b[0m\u001b[0;31m:\u001b[0m unexpected EOF while parsing\n"
     ]
    }
   ],
   "source": [
    "x = \"fried goldfish\"\n",
    "if x == \"spam for dinner\":\n",
    "    print(\"I will destroy the universe\")\n",
    "else:\n",
    "    # I'm fine with that. I'll do nothing"
   ]
  },
  {
   "cell_type": "markdown",
   "metadata": {},
   "source": [
    "`pass` is a \"do nothing\" statement"
   ]
  },
  {
   "cell_type": "code",
   "execution_count": 41,
   "metadata": {
    "collapsed": true
   },
   "outputs": [],
   "source": [
    "if x == \"spam for dinner\":\n",
    "    print(\"I will destroy the universe\")\n",
    "else:\n",
    "    # I'm fine with that. I'll do nothing\n",
    "    pass"
   ]
  },
  {
   "cell_type": "code",
   "execution_count": 42,
   "metadata": {
    "collapsed": false
   },
   "outputs": [
    {
     "name": "stdout",
     "output_type": "stream",
     "text": [
      "Overwriting temp1.py\n"
     ]
    }
   ],
   "source": [
    "%%file temp1.py\n",
    "# set some initial variables. Set the initial temperature low                                                                      \n",
    "faren = -1000\n",
    "\n",
    "# we dont want this going on forever, let's make sure we cannot have too many attempts                                                                                                                           \n",
    "max_attempts = 6\n",
    "attempt = 0\n",
    "\n",
    "while faren < 100:\n",
    "     # let's get the user to tell us what temperature it is                                                                                                                                                      \n",
    "     newfaren = float(input(\"Enter the temperature (in Fahrenheit): \"))\n",
    "     if newfaren > faren:\n",
    "             print(\"It's getting hotter\")\n",
    "     elif newfaren < faren:\n",
    "             print(\"It's getting cooler\")\n",
    "     else:\n",
    "         # nothing has changed, just continue in the loop                                                                                                                                                        \n",
    "         continue\n",
    "     faren = newfaren # now set the current temp to the new temp just entered                                                                                                                                    \n",
    "     attempt += 1 # bump up the attempt number                                                                                                                                                                   \n",
    "     if attempt >= max_attempts:\n",
    "         # we have to bail out                                                                                                                                                                                   \n",
    "         break\n",
    "if attempt >= max_attempts:\n",
    "     # we bailed out because of too many attempts                                                                                                                                                                \n",
    "     print(\"Too many attempts at raising the temperature.\")\n",
    "else:\n",
    "     # we got here because it's hot                                                                                                                                                                              \n",
    "     print(\"it's hot here, man.\")"
   ]
  },
  {
   "cell_type": "code",
   "execution_count": 43,
   "metadata": {
    "collapsed": false
   },
   "outputs": [
    {
     "name": "stdout",
     "output_type": "stream",
     "text": [
      "Enter the temperature (in Fahrenheit): 10\n",
      "It's getting hotter\n",
      "Enter the temperature (in Fahrenheit): 10\n",
      "Enter the temperature (in Fahrenheit): 1255\n",
      "It's getting hotter\n",
      "it's hot here, man.\n"
     ]
    }
   ],
   "source": [
    "%run temp1"
   ]
  },
  {
   "cell_type": "markdown",
   "metadata": {},
   "source": [
    "## 2. Advanced Data Structure"
   ]
  },
  {
   "cell_type": "markdown",
   "metadata": {
    "collapsed": true
   },
   "source": [
    "## There are four main types of collections of data (\"Sequence objects\") ##\n",
    "\n",
    "\t•\tLists: a mutable array of data\n",
    "\t•\tTuples: ordered, immutable list\n",
    "\t•\tSets: unordered collection of unique elements\n",
    "\t•\tDictionaries: keyword/value lookup\n",
    "\n",
    "The value in each element can be whatever (type) you want.\n",
    "> string is actually a sequence object"
   ]
  },
  {
   "cell_type": "markdown",
   "metadata": {},
   "source": [
    "### Tuple ###\n",
    "denoted with parentheses"
   ]
  },
  {
   "cell_type": "code",
   "execution_count": 44,
   "metadata": {
    "collapsed": false
   },
   "outputs": [
    {
     "name": "stdout",
     "output_type": "stream",
     "text": [
      "<class 'tuple'>\n"
     ]
    }
   ],
   "source": [
    "t = (12,-1)\n",
    "print(type(t))"
   ]
  },
  {
   "cell_type": "code",
   "execution_count": 45,
   "metadata": {
    "collapsed": false
   },
   "outputs": [
    {
     "name": "stdout",
     "output_type": "stream",
     "text": [
      "True\n",
      "2\n"
     ]
    }
   ],
   "source": [
    "print(isinstance(t,tuple))\n",
    "print(len(t))"
   ]
  },
  {
   "cell_type": "code",
   "execution_count": 46,
   "metadata": {
    "collapsed": false
   },
   "outputs": [
    {
     "name": "stdout",
     "output_type": "stream",
     "text": [
      "monty\n"
     ]
    }
   ],
   "source": [
    "t = (12,\"monty\",True,-1.23e6)\n",
    "print(t[1])"
   ]
  },
  {
   "cell_type": "code",
   "execution_count": 47,
   "metadata": {
    "collapsed": false
   },
   "outputs": [
    {
     "name": "stdout",
     "output_type": "stream",
     "text": [
      "-1230000.0\n"
     ]
    }
   ],
   "source": [
    "print(t[-1])"
   ]
  },
  {
   "cell_type": "code",
   "execution_count": 48,
   "metadata": {
    "collapsed": false
   },
   "outputs": [
    {
     "data": {
      "text/plain": [
       "(True, -1230000.0)"
      ]
     },
     "execution_count": 48,
     "metadata": {},
     "output_type": "execute_result"
    }
   ],
   "source": [
    "t[-2:]  # get the last two elements, return as a tuple"
   ]
  },
  {
   "cell_type": "code",
   "execution_count": null,
   "metadata": {
    "collapsed": false
   },
   "outputs": [],
   "source": [
    "x = (True) ; print(type(x))\n",
    "x = (True,) ; print(type(x))"
   ]
  },
  {
   "cell_type": "code",
   "execution_count": null,
   "metadata": {
    "collapsed": false
   },
   "outputs": [],
   "source": [
    "type(()), len(())"
   ]
  },
  {
   "cell_type": "markdown",
   "metadata": {},
   "source": [
    "single-element tuples look like `(element,)`"
   ]
  },
  {
   "cell_type": "markdown",
   "metadata": {},
   "source": [
    "cannot change a tuple\n",
    "but you can create new one with concatenation"
   ]
  },
  {
   "cell_type": "code",
   "execution_count": 49,
   "metadata": {
    "collapsed": false
   },
   "outputs": [
    {
     "ename": "TypeError",
     "evalue": "'tuple' object does not support item assignment",
     "output_type": "error",
     "traceback": [
      "\u001b[0;31m---------------------------------------------------------------------------\u001b[0m",
      "\u001b[0;31mTypeError\u001b[0m                                 Traceback (most recent call last)",
      "\u001b[0;32m<ipython-input-49-9365ccccf007>\u001b[0m in \u001b[0;36m<module>\u001b[0;34m()\u001b[0m\n\u001b[0;32m----> 1\u001b[0;31m \u001b[0mt\u001b[0m\u001b[0;34m[\u001b[0m\u001b[0;36m2\u001b[0m\u001b[0;34m]\u001b[0m \u001b[0;34m=\u001b[0m \u001b[0;32mFalse\u001b[0m\u001b[0;34m\u001b[0m\u001b[0m\n\u001b[0m",
      "\u001b[0;31mTypeError\u001b[0m: 'tuple' object does not support item assignment"
     ]
    }
   ],
   "source": [
    "t[2] = False"
   ]
  },
  {
   "cell_type": "code",
   "execution_count": 50,
   "metadata": {
    "collapsed": false
   },
   "outputs": [
    {
     "data": {
      "text/plain": [
       "((12, 'monty'), False, (-1230000.0,))"
      ]
     },
     "execution_count": 50,
     "metadata": {},
     "output_type": "execute_result"
    }
   ],
   "source": [
    "t[0:2], False, t[3:]"
   ]
  },
  {
   "cell_type": "code",
   "execution_count": 51,
   "metadata": {
    "collapsed": false
   },
   "outputs": [
    {
     "ename": "TypeError",
     "evalue": "can only concatenate tuple (not \"bool\") to tuple",
     "output_type": "error",
     "traceback": [
      "\u001b[0;31m---------------------------------------------------------------------------\u001b[0m",
      "\u001b[0;31mTypeError\u001b[0m                                 Traceback (most recent call last)",
      "\u001b[0;32m<ipython-input-51-73d4c94ec2bf>\u001b[0m in \u001b[0;36m<module>\u001b[0;34m()\u001b[0m\n\u001b[1;32m      1\u001b[0m \u001b[0;31m## the above it\u001b[0m\u001b[0;34m\u001b[0m\u001b[0;34m\u001b[0m\u001b[0m\n\u001b[1;32m      2\u001b[0m \u001b[0;31m## not what we wanted... need to concatenate\u001b[0m\u001b[0;34m\u001b[0m\u001b[0;34m\u001b[0m\u001b[0m\n\u001b[0;32m----> 3\u001b[0;31m \u001b[0mt\u001b[0m\u001b[0;34m[\u001b[0m\u001b[0;36m0\u001b[0m\u001b[0;34m:\u001b[0m\u001b[0;36m2\u001b[0m\u001b[0;34m]\u001b[0m \u001b[0;34m+\u001b[0m \u001b[0;32mFalse\u001b[0m \u001b[0;34m+\u001b[0m \u001b[0mt\u001b[0m\u001b[0;34m[\u001b[0m\u001b[0;36m3\u001b[0m\u001b[0;34m:\u001b[0m\u001b[0;34m]\u001b[0m\u001b[0;34m\u001b[0m\u001b[0m\n\u001b[0m",
      "\u001b[0;31mTypeError\u001b[0m: can only concatenate tuple (not \"bool\") to tuple"
     ]
    }
   ],
   "source": [
    "## the above it \n",
    "## not what we wanted... need to concatenate\n",
    "t[0:2] + False + t[3:]"
   ]
  },
  {
   "cell_type": "code",
   "execution_count": 52,
   "metadata": {
    "collapsed": false
   },
   "outputs": [
    {
     "name": "stdout",
     "output_type": "stream",
     "text": [
      "(12, 'monty', False, -1230000.0)\n"
     ]
    }
   ],
   "source": [
    "y = t[0:2] + (False,) + t[3:] ; print(y)"
   ]
  },
  {
   "cell_type": "code",
   "execution_count": null,
   "metadata": {
    "collapsed": false
   },
   "outputs": [],
   "source": [
    "t*2"
   ]
  },
  {
   "cell_type": "markdown",
   "metadata": {},
   "source": [
    "### List ###\n",
    "#### denoted with a brackets ####"
   ]
  },
  {
   "cell_type": "code",
   "execution_count": 53,
   "metadata": {
    "collapsed": false
   },
   "outputs": [
    {
     "name": "stdout",
     "output_type": "stream",
     "text": [
      "3 <class 'list'>\n"
     ]
    }
   ],
   "source": [
    "v = [1,2,3] ; print(len(v), type(v))"
   ]
  },
  {
   "cell_type": "code",
   "execution_count": 54,
   "metadata": {
    "collapsed": false
   },
   "outputs": [
    {
     "data": {
      "text/plain": [
       "[1, 2]"
      ]
     },
     "execution_count": 54,
     "metadata": {},
     "output_type": "execute_result"
    }
   ],
   "source": [
    "v[0:2]"
   ]
  },
  {
   "cell_type": "code",
   "execution_count": 55,
   "metadata": {
    "collapsed": false
   },
   "outputs": [
    {
     "data": {
      "text/plain": [
       "5"
      ]
     },
     "execution_count": 55,
     "metadata": {},
     "output_type": "execute_result"
    }
   ],
   "source": [
    "v = [\"eggs\",\"spam\",-1,(\"monty\",\"python\"),[-1.2,-3.5]]\n",
    "len(v)"
   ]
  },
  {
   "cell_type": "code",
   "execution_count": 56,
   "metadata": {
    "collapsed": false
   },
   "outputs": [
    {
     "data": {
      "text/plain": [
       "[-1.2, -3.5]"
      ]
     },
     "execution_count": 56,
     "metadata": {},
     "output_type": "execute_result"
    }
   ],
   "source": [
    "v[0] =\"green egg\"\n",
    "v[1] += \",love it.\"\n",
    "v[-1]"
   ]
  },
  {
   "cell_type": "code",
   "execution_count": 57,
   "metadata": {
    "collapsed": false
   },
   "outputs": [
    {
     "name": "stdout",
     "output_type": "stream",
     "text": [
      "['green egg', 'spam,love it.', -1, ('monty', 'python'), [-1.2, None]]\n"
     ]
    }
   ],
   "source": [
    "v[-1][1] = None ; print(v)"
   ]
  },
  {
   "cell_type": "code",
   "execution_count": null,
   "metadata": {
    "collapsed": false
   },
   "outputs": [],
   "source": [
    "v = v[2:] ; print(v)"
   ]
  },
  {
   "cell_type": "code",
   "execution_count": null,
   "metadata": {
    "collapsed": true
   },
   "outputs": [],
   "source": [
    "# let's make a proto-array out of nested lists\n",
    "vv = [ [1,2], [3,4] ]"
   ]
  },
  {
   "cell_type": "code",
   "execution_count": null,
   "metadata": {
    "collapsed": false
   },
   "outputs": [],
   "source": [
    "vv"
   ]
  },
  {
   "cell_type": "code",
   "execution_count": null,
   "metadata": {
    "collapsed": false
   },
   "outputs": [],
   "source": [
    "print(len(vv))"
   ]
  },
  {
   "cell_type": "code",
   "execution_count": null,
   "metadata": {
    "collapsed": false
   },
   "outputs": [],
   "source": [
    "determinant = vv[0][0]*vv[1][1] - vv[0][1]*vv[1][0]\n",
    "print(determinant)"
   ]
  },
  {
   "cell_type": "markdown",
   "metadata": {},
   "source": [
    "the main point here: lists are **changeable** (\"mutable\")"
   ]
  },
  {
   "cell_type": "markdown",
   "metadata": {},
   "source": [
    "### lists can be extended & appended ###"
   ]
  },
  {
   "cell_type": "code",
   "execution_count": 58,
   "metadata": {
    "collapsed": false
   },
   "outputs": [
    {
     "name": "stdout",
     "output_type": "stream",
     "text": [
      "[1, 2, 3, 4]\n"
     ]
    }
   ],
   "source": [
    "v = [1,2,3]\n",
    "v.append(4)   \n",
    "print(v)"
   ]
  },
  {
   "cell_type": "markdown",
   "metadata": {},
   "source": [
    "> Lists can be considered objects.\n",
    "**Objects** are like animals: they know how to do stuff (like eat and sleep), they know how to interact with others (like make children), and they have characteristics (like height, weight).\n",
    "\n",
    "> \"Knowing how to do stuff\" with itself is called a method. In this case \"append\" is a method which, when invoked, is an action that changes the characteristics (the data vector of the list itself)."
   ]
  },
  {
   "cell_type": "markdown",
   "metadata": {},
   "source": [
    "#### lists can also be popped ####"
   ]
  },
  {
   "cell_type": "code",
   "execution_count": 59,
   "metadata": {
    "collapsed": false
   },
   "outputs": [
    {
     "name": "stdout",
     "output_type": "stream",
     "text": [
      "[1, 2, 3, 4, [-5]]\n"
     ]
    }
   ],
   "source": [
    "v = [1,2,3]\n",
    "v.append(4)\n",
    "v.append([-5]) ; print(v)"
   ]
  },
  {
   "cell_type": "code",
   "execution_count": 60,
   "metadata": {
    "collapsed": false
   },
   "outputs": [
    {
     "data": {
      "text/plain": [
       "[1, 2, 3, 4, 'elderberries', 'eggs']"
      ]
     },
     "execution_count": 60,
     "metadata": {},
     "output_type": "execute_result"
    }
   ],
   "source": [
    "v = v[:4]\n",
    "w = ['elderberries', 'eggs']\n",
    "v + w"
   ]
  },
  {
   "cell_type": "code",
   "execution_count": null,
   "metadata": {
    "collapsed": false
   },
   "outputs": [],
   "source": [
    "v.extend(w) ; print(v)"
   ]
  },
  {
   "cell_type": "code",
   "execution_count": 61,
   "metadata": {
    "collapsed": false
   },
   "outputs": [
    {
     "data": {
      "text/plain": [
       "4"
      ]
     },
     "execution_count": 61,
     "metadata": {},
     "output_type": "execute_result"
    }
   ],
   "source": [
    "v.pop()"
   ]
  },
  {
   "cell_type": "code",
   "execution_count": 62,
   "metadata": {
    "collapsed": false
   },
   "outputs": [
    {
     "name": "stdout",
     "output_type": "stream",
     "text": [
      "[1, 2, 3]\n"
     ]
    }
   ],
   "source": [
    "print(v)"
   ]
  },
  {
   "cell_type": "code",
   "execution_count": null,
   "metadata": {
    "collapsed": false
   },
   "outputs": [],
   "source": [
    "v.pop(0) ; print(v) ## pop the first element"
   ]
  },
  {
   "cell_type": "markdown",
   "metadata": {},
   "source": [
    "#### lists can be searched, sorted, & counted ####"
   ]
  },
  {
   "cell_type": "code",
   "execution_count": 63,
   "metadata": {
    "collapsed": false
   },
   "outputs": [
    {
     "ename": "TypeError",
     "evalue": "unorderable types: str() < int()",
     "output_type": "error",
     "traceback": [
      "\u001b[0;31m---------------------------------------------------------------------------\u001b[0m",
      "\u001b[0;31mTypeError\u001b[0m                                 Traceback (most recent call last)",
      "\u001b[0;32m<ipython-input-63-62cf31a73851>\u001b[0m in \u001b[0;36m<module>\u001b[0;34m()\u001b[0m\n\u001b[1;32m      1\u001b[0m \u001b[0mv\u001b[0m \u001b[0;34m=\u001b[0m \u001b[0;34m[\u001b[0m\u001b[0;36m1\u001b[0m\u001b[0;34m,\u001b[0m\u001b[0;36m3\u001b[0m\u001b[0;34m,\u001b[0m \u001b[0;36m2\u001b[0m\u001b[0;34m,\u001b[0m \u001b[0;36m3\u001b[0m\u001b[0;34m,\u001b[0m \u001b[0;36m4\u001b[0m\u001b[0;34m,\u001b[0m \u001b[0;34m'elderberries'\u001b[0m\u001b[0;34m]\u001b[0m\u001b[0;34m\u001b[0m\u001b[0m\n\u001b[0;32m----> 2\u001b[0;31m \u001b[0mv\u001b[0m\u001b[0;34m.\u001b[0m\u001b[0msort\u001b[0m\u001b[0;34m(\u001b[0m\u001b[0;34m)\u001b[0m \u001b[0;34m;\u001b[0m \u001b[0mprint\u001b[0m\u001b[0;34m(\u001b[0m\u001b[0mv\u001b[0m\u001b[0;34m)\u001b[0m\u001b[0;34m\u001b[0m\u001b[0m\n\u001b[0m",
      "\u001b[0;31mTypeError\u001b[0m: unorderable types: str() < int()"
     ]
    }
   ],
   "source": [
    "v = [1,3, 2, 3, 4, 'elderberries']\n",
    "v.sort() ; print(v)"
   ]
  },
  {
   "cell_type": "markdown",
   "metadata": {},
   "source": [
    "If there isn't a natural way to compare elements, the sort will fail.\n",
    "\n",
    "`reverse` is a keyword of the `.sort()` method"
   ]
  },
  {
   "cell_type": "code",
   "execution_count": 64,
   "metadata": {
    "collapsed": false
   },
   "outputs": [
    {
     "name": "stdout",
     "output_type": "stream",
     "text": [
      "[1, 2, 3, 3, 3.141592653589793, 4]\n"
     ]
    }
   ],
   "source": [
    "import math\n",
    "v = [1,3, 2, 3, 4, math.pi]\n",
    "v.sort() ; print(v)"
   ]
  },
  {
   "cell_type": "code",
   "execution_count": null,
   "metadata": {
    "collapsed": false
   },
   "outputs": [],
   "source": [
    "v.sort(reverse=True) ; print(v)"
   ]
  },
  {
   "cell_type": "markdown",
   "metadata": {},
   "source": [
    "`.sort()` changes the the list in place "
   ]
  },
  {
   "cell_type": "code",
   "execution_count": null,
   "metadata": {
    "collapsed": false
   },
   "outputs": [],
   "source": [
    "v.index(4)   ## lookup the index of the entry 4"
   ]
  },
  {
   "cell_type": "code",
   "execution_count": null,
   "metadata": {
    "collapsed": false
   },
   "outputs": [],
   "source": [
    "v.index(3)"
   ]
  },
  {
   "cell_type": "code",
   "execution_count": null,
   "metadata": {
    "collapsed": false
   },
   "outputs": [],
   "source": [
    "v.count(3)"
   ]
  },
  {
   "cell_type": "code",
   "execution_count": null,
   "metadata": {
    "collapsed": false
   },
   "outputs": [],
   "source": [
    "v.insert(0,\"it's full of stars\") ; print(v)"
   ]
  },
  {
   "cell_type": "code",
   "execution_count": null,
   "metadata": {
    "collapsed": false
   },
   "outputs": [],
   "source": [
    "v.remove(1) ; print(v)"
   ]
  },
  {
   "cell_type": "markdown",
   "metadata": {},
   "source": [
    "### IPython Magic! ##\n",
    "\n",
    "1. Type `v.` then the Tab button\n",
    "\n",
    "2. Type `v.re` then the Tab button\n",
    "\n",
    "3. Type `v.remove?`"
   ]
  },
  {
   "cell_type": "code",
   "execution_count": null,
   "metadata": {
    "collapsed": true
   },
   "outputs": [],
   "source": [
    "v."
   ]
  },
  {
   "cell_type": "markdown",
   "metadata": {},
   "source": [
    "### List ###\n",
    "#### iteration ####"
   ]
  },
  {
   "cell_type": "markdown",
   "metadata": {},
   "source": [
    "The syntax for iteration is...  \n",
    "\n",
    "    for variable_name in iterable:\n",
    "       # do something with variable_name"
   ]
  },
  {
   "cell_type": "code",
   "execution_count": 65,
   "metadata": {
    "collapsed": false
   },
   "outputs": [
    {
     "name": "stdout",
     "output_type": "stream",
     "text": [
      "cat 3\n",
      "window 6\n",
      "defenestrate 12\n"
     ]
    }
   ],
   "source": [
    "a = ['cat', 'window', 'defenestrate']\n",
    "for x in a:\n",
    "       print(x, len(x))"
   ]
  },
  {
   "cell_type": "code",
   "execution_count": null,
   "metadata": {
    "collapsed": false
   },
   "outputs": [],
   "source": [
    "for i,x in enumerate(a):\n",
    "       print(i, x, len(x))"
   ]
  },
  {
   "cell_type": "code",
   "execution_count": null,
   "metadata": {
    "collapsed": false
   },
   "outputs": [],
   "source": [
    "for x in a:\n",
    "       print(x, end=' ')"
   ]
  },
  {
   "cell_type": "markdown",
   "metadata": {},
   "source": [
    "The `range()` function"
   ]
  },
  {
   "cell_type": "code",
   "execution_count": null,
   "metadata": {
    "collapsed": false
   },
   "outputs": [],
   "source": [
    "x = list(range(4)) ; print(x)\n",
    "total = 0\n",
    "for val in range(4):\n",
    "        total += val\n",
    "        print(\"By adding \" + str(val) + \\\n",
    "              \" the total is now \" + str(total))"
   ]
  },
  {
   "cell_type": "markdown",
   "metadata": {},
   "source": [
    "\n",
    "`range`([`start`,] `stop`[, `step`])\n",
    "→ list of integers"
   ]
  },
  {
   "cell_type": "code",
   "execution_count": null,
   "metadata": {
    "collapsed": false
   },
   "outputs": [],
   "source": [
    "total = 0\n",
    "for val in range(1,10,2):\n",
    "    total += val\n",
    "    print(\"By adding \" + str(val) + \\\n",
    "          \" the total is now \" + str(total))"
   ]
  },
  {
   "cell_type": "code",
   "execution_count": null,
   "metadata": {
    "collapsed": false
   },
   "outputs": [],
   "source": [
    "a = ['Mary', 'had', 'a', 'little', 'lamb']\n",
    "for i in range(len(a)):\n",
    "    print(i, a[i])"
   ]
  },
  {
   "cell_type": "markdown",
   "metadata": {},
   "source": [
    "### Sets ###\n",
    "#### denoted with a curly braces ####\n",
    "sets have unique elements. They can be\n",
    "compared, differenced, unionized, etc."
   ]
  },
  {
   "cell_type": "code",
   "execution_count": null,
   "metadata": {
    "collapsed": false
   },
   "outputs": [],
   "source": [
    "{1,2,3,\"bingo\"}"
   ]
  },
  {
   "cell_type": "code",
   "execution_count": null,
   "metadata": {
    "collapsed": false
   },
   "outputs": [],
   "source": [
    "print(type({1,2,3,\"bingo\"}))"
   ]
  },
  {
   "cell_type": "code",
   "execution_count": null,
   "metadata": {
    "collapsed": false
   },
   "outputs": [],
   "source": [
    "print(type({}))"
   ]
  },
  {
   "cell_type": "code",
   "execution_count": null,
   "metadata": {
    "collapsed": false
   },
   "outputs": [],
   "source": [
    "print(type(set()))"
   ]
  },
  {
   "cell_type": "code",
   "execution_count": null,
   "metadata": {
    "collapsed": false
   },
   "outputs": [],
   "source": [
    "set(\"spamIam\")"
   ]
  },
  {
   "cell_type": "code",
   "execution_count": null,
   "metadata": {
    "collapsed": false
   },
   "outputs": [],
   "source": [
    "a = set(\"sp\"); b = set(\"am\"); print(a) ; print(b)"
   ]
  },
  {
   "cell_type": "code",
   "execution_count": null,
   "metadata": {
    "collapsed": false
   },
   "outputs": [],
   "source": [
    "c = set([\"a\",\"m\"])\n",
    "c == b"
   ]
  },
  {
   "cell_type": "code",
   "execution_count": null,
   "metadata": {
    "collapsed": false
   },
   "outputs": [],
   "source": [
    "\"p\" in a"
   ]
  },
  {
   "cell_type": "code",
   "execution_count": null,
   "metadata": {
    "collapsed": false
   },
   "outputs": [],
   "source": [
    "\"ps\" in a"
   ]
  },
  {
   "cell_type": "code",
   "execution_count": null,
   "metadata": {
    "collapsed": false
   },
   "outputs": [],
   "source": [
    "q = set(\"spamIam\")\n",
    "a.issubset(q)"
   ]
  },
  {
   "cell_type": "code",
   "execution_count": null,
   "metadata": {
    "collapsed": false
   },
   "outputs": [],
   "source": [
    "a | b  #difference"
   ]
  },
  {
   "cell_type": "code",
   "execution_count": null,
   "metadata": {
    "collapsed": false
   },
   "outputs": [],
   "source": [
    "q - (a | b)"
   ]
  },
  {
   "cell_type": "code",
   "execution_count": null,
   "metadata": {
    "collapsed": false
   },
   "outputs": [],
   "source": [
    "q & (a | b)"
   ]
  },
  {
   "cell_type": "markdown",
   "metadata": {},
   "source": [
    "Like lists, we can use as (unordered) buckets\n",
    "`.pop()` gives us a random element"
   ]
  },
  {
   "cell_type": "code",
   "execution_count": null,
   "metadata": {
    "collapsed": false
   },
   "outputs": [],
   "source": [
    "# this is pretty volitile...wont be the same\n",
    "# order on all machines\n",
    "for i in q & (a | b):\n",
    "    print(i, end=' ') "
   ]
  },
  {
   "cell_type": "code",
   "execution_count": null,
   "metadata": {
    "collapsed": true
   },
   "outputs": [],
   "source": [
    "q.remove(\"a\")"
   ]
  },
  {
   "cell_type": "code",
   "execution_count": null,
   "metadata": {
    "collapsed": false
   },
   "outputs": [],
   "source": [
    "q.pop()"
   ]
  },
  {
   "cell_type": "code",
   "execution_count": null,
   "metadata": {
    "collapsed": false
   },
   "outputs": [],
   "source": [
    "print(q.pop())\n",
    "print(q.pop())"
   ]
  },
  {
   "cell_type": "code",
   "execution_count": null,
   "metadata": {
    "collapsed": false
   },
   "outputs": [],
   "source": [
    "print(q.pop())"
   ]
  },
  {
   "cell_type": "code",
   "execution_count": null,
   "metadata": {
    "collapsed": false
   },
   "outputs": [],
   "source": [
    "q.pop()"
   ]
  },
  {
   "cell_type": "markdown",
   "metadata": {},
   "source": [
    "## Dictionaries ##\n",
    "denoted with a curly braces and colons"
   ]
  },
  {
   "cell_type": "code",
   "execution_count": null,
   "metadata": {
    "collapsed": true
   },
   "outputs": [],
   "source": [
    "d = {\"favorite cat\": None, \"favorite spam\": \"all\"}"
   ]
  },
  {
   "cell_type": "markdown",
   "metadata": {},
   "source": [
    "these are key: value, key: value, ..."
   ]
  },
  {
   "cell_type": "code",
   "execution_count": null,
   "metadata": {
    "collapsed": false
   },
   "outputs": [],
   "source": [
    "print(d[\"favorite cat\"])\n",
    "d[0]   ## this is not a list and you dont have a keyword = 0"
   ]
  },
  {
   "cell_type": "code",
   "execution_count": null,
   "metadata": {
    "collapsed": false
   },
   "outputs": [],
   "source": [
    "e = {\"favorite cat\": None, \"favorite spam\": \"all\", \\\n",
    "     1: 'loneliest number'}\n",
    "e[1] == 'loneliest number'"
   ]
  },
  {
   "cell_type": "markdown",
   "metadata": {},
   "source": [
    "dictionaries are **UNORDERED**<sup>*</sup>.  \n",
    ">You cannot assume that one key comes before or after another\n",
    "\n",
    "<sup>*</sup> you can use a special type of ordered dict if you really need it:\n",
    "\n",
    "https://docs.python.org/3.1/whatsnew/3.1.html#pep-372-ordered-dictionaries"
   ]
  },
  {
   "cell_type": "markdown",
   "metadata": {},
   "source": [
    "### 4 ways to make a Dictionary ###"
   ]
  },
  {
   "cell_type": "code",
   "execution_count": null,
   "metadata": {
    "collapsed": true
   },
   "outputs": [],
   "source": [
    "# number 1...you've seen this\n",
    "d = {\"favorite cat\": None, \"favorite spam\": \"all\"}"
   ]
  },
  {
   "cell_type": "code",
   "execution_count": null,
   "metadata": {
    "collapsed": false
   },
   "outputs": [],
   "source": [
    "# number 2\n",
    "d = dict(one = 1, two=2,cat = 'dog') ; print(d)"
   ]
  },
  {
   "cell_type": "code",
   "execution_count": null,
   "metadata": {
    "collapsed": false
   },
   "outputs": [],
   "source": [
    "# number 3 ... just start filling in items/keys\n",
    "d = {}  # empty dictionary\n",
    "d['cat'] = 'dog'\n",
    "d['one'] = 1\n",
    "d['two'] = 2\n",
    "d"
   ]
  },
  {
   "cell_type": "code",
   "execution_count": null,
   "metadata": {
    "collapsed": false
   },
   "outputs": [],
   "source": [
    "# number 4... start with a list of tuples\n",
    "mylist = [(\"cat\",\"dog\"), (\"one\",1),(\"two\",2)]\n",
    "print(dict(mylist))"
   ]
  },
  {
   "cell_type": "code",
   "execution_count": null,
   "metadata": {
    "collapsed": false
   },
   "outputs": [],
   "source": [
    "dict(mylist) == d"
   ]
  },
  {
   "cell_type": "markdown",
   "metadata": {},
   "source": [
    "#### Dictionaries: they can be complicated (in a good way) ####"
   ]
  },
  {
   "cell_type": "code",
   "execution_count": null,
   "metadata": {
    "collapsed": true
   },
   "outputs": [],
   "source": [
    "phone_numbers = {'family': [('mom','642-2322'),('dad','534-2311')],\\\n",
    "                     'friends': [('Billy','652-2212')]}"
   ]
  },
  {
   "cell_type": "code",
   "execution_count": null,
   "metadata": {
    "collapsed": false
   },
   "outputs": [],
   "source": [
    "phone_numbers"
   ]
  },
  {
   "cell_type": "code",
   "execution_count": null,
   "metadata": {
    "collapsed": false
   },
   "outputs": [],
   "source": [
    "for group_type in ['friends','family']:\n",
    "        print(\"Group \" + group_type + \":\")\n",
    "        for info in phone_numbers[group_type]:\n",
    "             print(\" \",info[0], info[1])"
   ]
  },
  {
   "cell_type": "code",
   "execution_count": null,
   "metadata": {
    "collapsed": false
   },
   "outputs": [],
   "source": [
    "# this will return a list, but you dont know in what order! \n",
    "list(phone_numbers.keys())"
   ]
  },
  {
   "cell_type": "code",
   "execution_count": null,
   "metadata": {
    "collapsed": false
   },
   "outputs": [],
   "source": [
    "list(phone_numbers.values())"
   ]
  },
  {
   "cell_type": "markdown",
   "metadata": {},
   "source": [
    "One appealing feature of Python is that relatively small core language is supported by many libraries.\n",
    "\n",
    "We will look at 3 of the (most likely) useful packages: \n",
    "* Numpy\n",
    "* Scipy\n",
    "* Matplotlib"
   ]
  },
  {
   "cell_type": "markdown",
   "metadata": {},
   "source": [
    "## 3. Numpy"
   ]
  },
  {
   "cell_type": "markdown",
   "metadata": {},
   "source": [
    "NumPy provides the basic array data type plus some simple processing operations."
   ]
  },
  {
   "cell_type": "markdown",
   "metadata": {},
   "source": [
    "From Stack Exchange:\n",
    "* Why NumPy instead of Python lists?\n",
    "* Is it worth my learning NumPy?"
   ]
  },
  {
   "cell_type": "markdown",
   "metadata": {},
   "source": [
    "NumPy's arrays are more compact than Python lists -- a list of lists as you describe, in Python, would take at least 20 MB or so, while a NumPy 3D array with single-precision floats in the cells would fit in 4 MB. Access in reading and writing items is also faster with NumPy.\n",
    "\n",
    "Maybe you don't care that much for just a million cells, but you definitely would for a billion cells -- neither approach would fit in a 32-bit architecture, but with 64-bit builds NumPy would get away with 4 GB or so, Python alone would need at least about 12 GB (lots of pointers which double in size) -- a much costlier piece of hardware!\n",
    "\n",
    "The difference is mostly due to \"indirectness\" -- a Python list is an array of pointers to Python objects, at least 4 bytes per pointer plus 16 bytes for even the smallest Python object (4 for type pointer, 4 for reference count, 4 for value -- and the memory allocators rounds up to 16). A NumPy array is an array of uniform values -- single-precision numbers takes 4 bytes each, double-precision ones, 8 bytes. Less flexible, but you pay substantially for the flexibility of standard Python lists!"
   ]
  },
  {
   "cell_type": "markdown",
   "metadata": {},
   "source": [
    "While the Python language is an excellent tool for general-purpose programming, with a highly readable syntax, rich and powerful data types (strings, lists, sets, dictionaries, arbitrary length integers, etc) and a very comprehensive standard library, it was not designed specifically for mathematical and scientific computing.  Neither the language nor its standard library have facilities for the efficient representation of multidimensional datasets, tools for linear algebra and general matrix manipulations (an essential building block of virtually all technical computing), nor any data visualization facilities.\n",
    "\n",
    "In particular, Python lists are very flexible containers that can be nested arbitrarily deep and which can hold any Python object in them, but they are poorly suited to represent efficiently common mathematical constructs like vectors and matrices.  In contrast, much of our modern heritage of scientific computing has been built on top of libraries written in the Fortran language, which has native support for vectors and matrices as well as a library of mathematical functions that can efficiently operate on entire arrays at once."
   ]
  },
  {
   "cell_type": "markdown",
   "metadata": {},
   "source": [
    "## Basics of Numpy arrays"
   ]
  },
  {
   "cell_type": "markdown",
   "metadata": {},
   "source": [
    "We now turn our attention to the Numpy library, which forms the base layer for the entire 'scipy ecosystem'. "
   ]
  },
  {
   "cell_type": "markdown",
   "metadata": {},
   "source": [
    "### The Numpy array structure\n",
    "<center>\n",
    "<img src=\"array_memory_strides.png\" width=70%>\n",
    "</center>"
   ]
  },
  {
   "cell_type": "code",
   "execution_count": 66,
   "metadata": {
    "collapsed": true
   },
   "outputs": [],
   "source": [
    "# Loading the library\n",
    "import numpy as np    "
   ]
  },
  {
   "cell_type": "code",
   "execution_count": 67,
   "metadata": {
    "collapsed": false
   },
   "outputs": [
    {
     "name": "stdout",
     "output_type": "stream",
     "text": [
      "100 loops, best of 3: 16.3 ms per loop\n",
      "The slowest run took 7.63 times longer than the fastest. This could mean that an intermediate result is being cached \n",
      "10000 loops, best of 3: 36 µs per loop\n"
     ]
    }
   ],
   "source": [
    "x = range(50000)\n",
    "y = np.arange(50000)\n",
    "\n",
    "%timeit [e**2  for e in x]\n",
    "%timeit y**2"
   ]
  },
  {
   "cell_type": "markdown",
   "metadata": {},
   "source": [
    "### Array memory representation"
   ]
  },
  {
   "cell_type": "markdown",
   "metadata": {},
   "source": [
    "The information about the type of an array is contained in its *dtype* attribute:"
   ]
  },
  {
   "cell_type": "code",
   "execution_count": 68,
   "metadata": {
    "collapsed": false
   },
   "outputs": [
    {
     "name": "stdout",
     "output_type": "stream",
     "text": [
      "[[1 2]\n",
      " [3 4]]\n"
     ]
    }
   ],
   "source": [
    "x = np.array([[1, 2], [3, 4]], dtype=np.uint8)\n",
    "print(x)"
   ]
  },
  {
   "cell_type": "code",
   "execution_count": 69,
   "metadata": {
    "collapsed": false
   },
   "outputs": [
    {
     "data": {
      "text/plain": [
       "[1, 2, 3, 4]"
      ]
     },
     "execution_count": 69,
     "metadata": {},
     "output_type": "execute_result"
    }
   ],
   "source": [
    "[b for b in bytes(x.data)]"
   ]
  },
  {
   "cell_type": "code",
   "execution_count": null,
   "metadata": {
    "collapsed": false
   },
   "outputs": [],
   "source": [
    "arr = np.array([10, 20, 123123])\n",
    "arr.dtype"
   ]
  },
  {
   "cell_type": "code",
   "execution_count": null,
   "metadata": {
    "collapsed": false
   },
   "outputs": [],
   "source": [
    "[b for b in bytes(arr.data)]"
   ]
  },
  {
   "cell_type": "markdown",
   "metadata": {},
   "source": [
    "Once an array has been created, its dtype is fixed and it can only store elements of the same type.  For this example where the dtype is integer, if we store a floating point number it will be automatically converted into an integer:"
   ]
  },
  {
   "cell_type": "code",
   "execution_count": null,
   "metadata": {
    "collapsed": false
   },
   "outputs": [],
   "source": [
    "arr[-1] = 1.234\n",
    "arr"
   ]
  },
  {
   "cell_type": "markdown",
   "metadata": {},
   "source": [
    "Strange things can also happen when manipulating values in an array:"
   ]
  },
  {
   "cell_type": "code",
   "execution_count": null,
   "metadata": {
    "collapsed": false
   },
   "outputs": [],
   "source": [
    "x = np.array([0, 127, 255], dtype=np.uint8)\n",
    "print(x)"
   ]
  },
  {
   "cell_type": "code",
   "execution_count": null,
   "metadata": {
    "collapsed": false
   },
   "outputs": [],
   "source": [
    "x + 1"
   ]
  },
  {
   "cell_type": "code",
   "execution_count": null,
   "metadata": {
    "collapsed": false
   },
   "outputs": [],
   "source": [
    "x - 1"
   ]
  },
  {
   "cell_type": "code",
   "execution_count": null,
   "metadata": {
    "collapsed": false
   },
   "outputs": [],
   "source": [
    "unit8?"
   ]
  },
  {
   "cell_type": "markdown",
   "metadata": {},
   "source": [
    "### Array creation\n"
   ]
  },
  {
   "cell_type": "markdown",
   "metadata": {},
   "source": [
    "Above we created an array from an existing list; now let us now see other ways in which we can create arrays, which we'll illustrate next.  A common need is to have an array initialized with a constant value, and very often this value is 0 or 1 (suitable as starting value for additive and multiplicative loops respectively); `zeros` creates arrays of all zeros, with any desired dtype:"
   ]
  },
  {
   "cell_type": "code",
   "execution_count": 70,
   "metadata": {
    "collapsed": false
   },
   "outputs": [
    {
     "data": {
      "text/plain": [
       "array([[ 0.,  0.,  0.,  0.,  0.],\n",
       "       [ 0.,  0.,  0.,  0.,  0.],\n",
       "       [ 0.,  0.,  0.,  0.,  0.],\n",
       "       [ 0.,  0.,  0.,  0.,  0.],\n",
       "       [ 0.,  0.,  0.,  0.,  0.]])"
      ]
     },
     "execution_count": 70,
     "metadata": {},
     "output_type": "execute_result"
    }
   ],
   "source": [
    "np.zeros((5, 5), dtype=np.float64)"
   ]
  },
  {
   "cell_type": "code",
   "execution_count": null,
   "metadata": {
    "collapsed": false
   },
   "outputs": [],
   "source": [
    "np.zeros((2, 3), dtype=np.int64)"
   ]
  },
  {
   "cell_type": "code",
   "execution_count": 71,
   "metadata": {
    "collapsed": false
   },
   "outputs": [
    {
     "data": {
      "text/plain": [
       "array([ 0.+0.j,  0.+0.j,  0.+0.j])"
      ]
     },
     "execution_count": 71,
     "metadata": {},
     "output_type": "execute_result"
    }
   ],
   "source": [
    "np.zeros(3, dtype=complex)"
   ]
  },
  {
   "cell_type": "markdown",
   "metadata": {},
   "source": [
    "and similarly for `ones`:"
   ]
  },
  {
   "cell_type": "code",
   "execution_count": 72,
   "metadata": {
    "collapsed": false
   },
   "outputs": [
    {
     "data": {
      "text/plain": [
       "array([ 1.,  1.,  1.,  1.,  1.])"
      ]
     },
     "execution_count": 72,
     "metadata": {},
     "output_type": "execute_result"
    }
   ],
   "source": [
    "np.ones(5)"
   ]
  },
  {
   "cell_type": "markdown",
   "metadata": {},
   "source": [
    "Then there are the `linspace` and `logspace` functions to create linearly and logarithmically-spaced grids, respectively, with a fixed number of points and including both ends of the specified interval:"
   ]
  },
  {
   "cell_type": "code",
   "execution_count": null,
   "metadata": {
    "collapsed": false
   },
   "outputs": [],
   "source": [
    "np.linspace(0, 1, 5)   # start, stop, num"
   ]
  },
  {
   "cell_type": "code",
   "execution_count": null,
   "metadata": {
    "collapsed": false
   },
   "outputs": [],
   "source": [
    "np.logspace(1, 4, 4)  # Logarithmic grid between 10^1 and 10^4"
   ]
  },
  {
   "cell_type": "markdown",
   "metadata": {},
   "source": [
    "Finally, it is often useful to create arrays with random numbers that follow a specific distribution.  The `np.random` module provides several random number generators.  For example, here we produce an array of 5 random samples taken from a standard normal distribution (0 mean and variance 1):"
   ]
  },
  {
   "cell_type": "code",
   "execution_count": null,
   "metadata": {
    "collapsed": true
   },
   "outputs": [],
   "source": [
    "rng = np.random.RandomState(0)  # <-- seed value, do not have to specify, but useful for reproducibi"
   ]
  },
  {
   "cell_type": "code",
   "execution_count": null,
   "metadata": {
    "collapsed": false
   },
   "outputs": [],
   "source": [
    "rng.normal(loc=5, scale=1, size=5)"
   ]
  },
  {
   "cell_type": "markdown",
   "metadata": {},
   "source": [
    "Or the same, but from a uniform distribution:"
   ]
  },
  {
   "cell_type": "code",
   "execution_count": null,
   "metadata": {
    "collapsed": false
   },
   "outputs": [],
   "source": [
    "uni = rng.uniform(-10, 10, size=5)  # 5 random numbers, picked from a uniform distribution between -10 and 10\n",
    "print(uni)"
   ]
  },
  {
   "cell_type": "markdown",
   "metadata": {},
   "source": [
    "Things I did not touch upon:\n",
    "* Arrays with more than one dimension\n",
    "* Other numpy functions and array properties\n",
    "* Broadcastin\n",
    "* Operating with arrays\n",
    "* Linear Algebra in NumPY\n",
    "* Reading and writing arrays to disk"
   ]
  },
  {
   "cell_type": "markdown",
   "metadata": {},
   "source": [
    "We don't have time here to look at all the numpy functions that operate on arrays, but here's a complete list.  Simply try exploring some of these IPython to learn more, or read their description in their docstrings or the [Numpy documentation](http://docs.scipy.org/doc/numpy/reference/):\n",
    "\n",
    "```\n",
    "np.ALLOW_THREADS              np.compress                   np.irr                        np.pv\n",
    "np.BUFSIZE                    np.concatenate                np.is_busday                  np.r_\n",
    "np.CLIP                       np.conj                       np.isclose                    np.rad2deg\n",
    "np.ComplexWarning             np.conjugate                  np.iscomplex                  np.radians\n",
    "np.DataSource                 np.convolve                   np.iscomplexobj               np.random\n",
    "np.ERR_CALL                   np.copy                       np.isfinite                   np.rank\n",
    "np.ERR_DEFAULT                np.copysign                   np.isfortran                  np.rate\n",
    "np.ERR_IGNORE                 np.copyto                     np.isinf                      np.ravel\n",
    "np.ERR_LOG                    np.core                       np.isnan                      np.ravel_multi_index\n",
    "np.ERR_PRINT                  np.corrcoef                   np.isneginf                   np.real\n",
    "np.ERR_RAISE                  np.correlate                  np.isposinf                   np.real_if_close\n",
    "np.ERR_WARN                   np.cos                        np.isreal                     np.rec\n",
    "np.FLOATING_POINT_SUPPORT     np.cosh                       np.isrealobj                  np.recarray\n",
    "np.FPE_DIVIDEBYZERO           np.count_nonzero              np.isscalar                   np.recfromcsv\n",
    "np.FPE_INVALID                np.cov                        np.issctype                   np.recfromtxt\n",
    "np.FPE_OVERFLOW               np.cross                      np.issubclass_                np.reciprocal\n",
    "np.FPE_UNDERFLOW              np.csingle                    np.issubdtype                 np.record\n",
    "np.False_                     np.ctypeslib                  np.issubsctype                np.remainder\n",
    "np.Inf                        np.cumprod                    np.iterable                   np.repeat\n",
    "np.Infinity                   np.cumproduct                 np.ix_                        np.require\n",
    "np.MAXDIMS                    np.cumsum                     np.kaiser                     np.reshape\n",
    "np.MachAr                     np.datetime64                 np.kron                       np.resize\n",
    "np.ModuleDeprecationWarning   np.datetime_as_string         np.ldexp                      np.restoredot\n",
    "np.NAN                        np.datetime_data              np.left_shift                 np.result_type\n",
    "np.NINF                       np.deg2rad                    np.less                       np.right_shift\n",
    "np.NZERO                      np.degrees                    np.less_equal                 np.rint\n",
    "np.NaN                        np.delete                     np.lexsort                    np.roll\n",
    "np.PINF                       np.deprecate                  np.lib                        np.rollaxis\n",
    "np.PZERO                      np.deprecate_with_doc         np.linalg                     np.roots\n",
    "np.PackageLoader              np.diag                       np.linspace                   np.rot90\n",
    "np.RAISE                      np.diag_indices               np.little_endian              np.round\n",
    "np.RankWarning                np.diag_indices_from          np.load                       np.round_\n",
    "np.SHIFT_DIVIDEBYZERO         np.diagflat                   np.loads                      np.row_stack\n",
    "np.SHIFT_INVALID              np.diagonal                   np.loadtxt                    np.s_\n",
    "np.SHIFT_OVERFLOW             np.diff                       np.log                        np.safe_eval\n",
    "np.SHIFT_UNDERFLOW            np.digitize                   np.log10                      np.save\n",
    "np.ScalarType                 np.disp                       np.log1p                      np.savetxt\n",
    "np.Tester                     np.divide                     np.log2                       np.savez\n",
    "np.True_                      np.division                   np.logaddexp                  np.savez_compressed\n",
    "np.UFUNC_BUFSIZE_DEFAULT      np.dot                        np.logaddexp2                 np.sctype2char\n",
    "np.UFUNC_PYVALS_NAME          np.double                     np.logical_and                np.sctypeDict\n",
    "np.VisibleDeprecationWarning  np.dsplit                     np.logical_not                np.sctypeNA\n",
    "np.WRAP                       np.dstack                     np.logical_or                 np.sctypes\n",
    "np.abs                        np.dtype                      np.logical_xor                np.searchsorted\n",
    "np.absolute                   np.e                          np.logspace                   np.select\n",
    "np.absolute_import            np.ediff1d                    np.long                       np.set_numeric_ops\n",
    "np.add                        np.einsum                     np.longcomplex                np.set_printoptions\n",
    "np.add_docstring              np.emath                      np.longdouble                 np.set_string_function\n",
    "np.add_newdoc                 np.empty                      np.longfloat                  np.setbufsize\n",
    "np.add_newdoc_ufunc           np.empty_like                 np.longlong                   np.setdiff1d\n",
    "np.add_newdocs                np.equal                      np.lookfor                    np.seterr\n",
    "np.alen                       np.errstate                   np.ma                         np.seterrcall\n",
    "np.all                        np.euler_gamma                np.mafromtxt                  np.seterrobj\n",
    "np.allclose                   np.exp                        np.mask_indices               np.setxor1d\n",
    "np.alltrue                    np.exp2                       np.mat                        np.shape\n",
    "np.alterdot                   np.expand_dims                np.math                       np.short\n",
    "np.amax                       np.expm1                      np.matrix                     np.show_config\n",
    "np.amin                       np.extract                    np.matrixlib                  np.sign\n",
    "np.angle                      np.eye                        np.max                        np.signbit\n",
    "np.any                        np.fabs                       np.maximum                    np.signedinteger\n",
    "np.append                     np.fastCopyAndTranspose       np.maximum_sctype             np.sin\n",
    "np.apply_along_axis           np.fft                        np.may_share_memory           np.sinc\n",
    "np.apply_over_axes            np.fill_diagonal              np.mean                       np.single\n",
    "np.arange                     np.find_common_type           np.median                     np.singlecomplex\n",
    "np.arccos                     np.finfo                      np.memmap                     np.sinh\n",
    "np.arccosh                    np.fix                        np.meshgrid                   np.size\n",
    "np.arcsin                     np.flatiter                   np.mgrid                      np.sometrue\n",
    "np.arcsinh                    np.flatnonzero                np.min                        np.sort\n",
    "np.arctan                     np.flexible                   np.min_scalar_type            np.sort_complex\n",
    "np.arctan2                    np.fliplr                     np.minimum                    np.source\n",
    "np.arctanh                    np.flipud                     np.mintypecode                np.spacing\n",
    "np.argmax                     np.float                      np.mirr                       np.split\n",
    "np.argmin                     np.float128                   np.mod                        np.sqrt\n",
    "np.argpartition               np.float16                    np.modf                       np.square\n",
    "np.argsort                    np.float32                    np.msort                      np.squeeze\n",
    "np.argwhere                   np.float64                    np.multiply                   np.stack\n",
    "np.around                     np.float_                     np.nan                        np.std\n",
    "np.array                      np.floating                   np.nan_to_num                 np.str\n",
    "np.array2string               np.floor                      np.nanargmax                  np.str0\n",
    "np.array_equal                np.floor_divide               np.nanargmin                  np.str_\n",
    "np.array_equiv                np.fmax                       np.nanmax                     np.string_\n",
    "np.array_repr                 np.fmin                       np.nanmean                    np.subtract\n",
    "np.array_split                np.fmod                       np.nanmedian                  np.sum\n",
    "np.array_str                  np.format_parser              np.nanmin                     np.swapaxes\n",
    "np.asanyarray                 np.frexp                      np.nanpercentile              np.sys\n",
    "np.asarray                    np.frombuffer                 np.nanprod                    np.take\n",
    "np.asarray_chkfinite          np.fromfile                   np.nanstd                     np.tan\n",
    "np.ascontiguousarray          np.fromfunction               np.nansum                     np.tanh\n",
    "np.asfarray                   np.fromiter                   np.nanvar                     np.tensordot\n",
    "np.asfortranarray             np.frompyfunc                 np.nbytes                     np.test\n",
    "np.asmatrix                   np.fromregex                  np.ndarray                    np.testing\n",
    "np.asscalar                   np.fromstring                 np.ndenumerate                np.tile\n",
    "np.atleast_1d                 np.full                       np.ndfromtxt                  np.timedelta64\n",
    "np.atleast_2d                 np.full_like                  np.ndim                       np.trace\n",
    "np.atleast_3d                 np.fv                         np.ndindex                    np.transpose\n",
    "np.average                    np.generic                    np.nditer                     np.trapz\n",
    "np.bartlett                   np.genfromtxt                 np.negative                   np.tri\n",
    "np.base_repr                  np.get_array_wrap             np.nested_iters               np.tril\n",
    "np.bench                      np.get_include                np.newaxis                    np.tril_indices\n",
    "np.binary_repr                np.get_printoptions           np.nextafter                  np.tril_indices_from\n",
    "np.bincount                   np.getbufsize                 np.nonzero                    np.trim_zeros\n",
    "np.bitwise_and                np.geterr                     np.not_equal                  np.triu\n",
    "np.bitwise_not                np.geterrcall                 np.nper                       np.triu_indices\n",
    "np.bitwise_or                 np.geterrobj                  np.npv                        np.triu_indices_from\n",
    "np.bitwise_xor                np.gradient                   np.numarray                   np.true_divide\n",
    "np.blackman                   np.greater                    np.number                     np.trunc\n",
    "np.bmat                       np.greater_equal              np.obj2sctype                 np.typeDict\n",
    "np.bool                       np.half                       np.object                     np.typeNA\n",
    "np.bool8                      np.hamming                    np.object0                    np.typecodes\n",
    "np.bool_                      np.hanning                    np.object_                    np.typename\n",
    "np.broadcast                  np.histogram                  np.ogrid                      np.ubyte\n",
    "np.broadcast_arrays           np.histogram2d                np.oldnumeric                 np.ufunc\n",
    "np.broadcast_to               np.histogramdd                np.ones                       np.uint\n",
    "np.busday_count               np.hsplit                     np.ones_like                  np.uint0\n",
    "np.busday_offset              np.hstack                     np.outer                      np.uint16\n",
    "np.busdaycalendar             np.hypot                      np.packbits                   np.uint32\n",
    "np.byte                       np.i0                         np.pad                        np.uint64\n",
    "np.byte_bounds                np.identity                   np.partition                  np.uint8\n",
    "np.bytes0                     np.iinfo                      np.percentile                 np.uintc\n",
    "np.bytes_                     np.imag                       np.pi                         np.uintp\n",
    "np.c_                         np.in1d                       np.piecewise                  np.ulonglong\n",
    "np.can_cast                   np.index_exp                  np.pkgload                    np.unicode\n",
    "np.cast                       np.indices                    np.place                      np.unicode_\n",
    "np.cbrt                       np.inexact                    np.pmt                        np.union1d\n",
    "np.cdouble                    np.inf                        np.poly                       np.unique\n",
    "np.ceil                       np.info                       np.poly1d                     np.unpackbits\n",
    "np.cfloat                     np.infty                      np.polyadd                    np.unravel_index\n",
    "np.char                       np.inner                      np.polyder                    np.unsignedinteger\n",
    "np.character                  np.insert                     np.polydiv                    np.unwrap\n",
    "np.chararray                  np.int                        np.polyfit                    np.ushort\n",
    "np.choose                     np.int0                       np.polyint                    np.vander\n",
    "np.clip                       np.int16                      np.polymul                    np.var\n",
    "np.clongdouble                np.int32                      np.polynomial                 np.vdot\n",
    "np.clongfloat                 np.int64                      np.polysub                    np.vectorize\n",
    "np.column_stack               np.int8                       np.polyval                    np.version\n",
    "np.common_type                np.int_                       np.power                      np.void\n",
    "np.compare_chararrays         np.int_asbuffer               np.ppmt                       np.void0\n",
    "np.compat                     np.intc                       np.print_function             np.vsplit\n",
    "np.complex                    np.integer                    np.prod                       np.vstack\n",
    "np.complex128                 np.interp                     np.product                    np.warnings\n",
    "np.complex256                 np.intersect1d                np.promote_types              np.where\n",
    "np.complex64                  np.intp                       np.ptp                        np.who\n",
    "np.complex_                   np.invert                     np.put                        np.zeros\n",
    "np.complexfloating            np.ipmt                       np.putmask                    np.zeros_like\n",
    "```"
   ]
  },
  {
   "cell_type": "markdown",
   "metadata": {},
   "source": [
    "## 4. Scipy"
   ]
  },
  {
   "cell_type": "markdown",
   "metadata": {},
   "source": [
    "The SciPy library is built on top of NumPy and provides additional functionality. \n",
    "\n",
    "In particular, SciPy includes many of the standard routines used in:\n",
    "* linear algebra\n",
    "* integration\n",
    "* interpolation\n",
    "* optimization\n",
    "* distributions and random number generation\n",
    "* signal proessing"
   ]
  },
  {
   "cell_type": "code",
   "execution_count": null,
   "metadata": {
    "collapsed": false
   },
   "outputs": [],
   "source": [
    "import scipy\n",
    "print(scipy.__doc__)"
   ]
  },
  {
   "cell_type": "markdown",
   "metadata": {},
   "source": [
    "As an example, let's consider the following example where we calculate $\\int_{-2}^{2} \\phi(z) dz $, where $\\phi$ is the standard normal density"
   ]
  },
  {
   "cell_type": "code",
   "execution_count": 83,
   "metadata": {
    "collapsed": true
   },
   "outputs": [],
   "source": [
    "# import the library\n",
    "from scipy.stats import norm\n",
    "from scipy.integrate import quad"
   ]
  },
  {
   "cell_type": "code",
   "execution_count": null,
   "metadata": {
    "collapsed": true
   },
   "outputs": [],
   "source": [
    "phi = norm()"
   ]
  },
  {
   "cell_type": "code",
   "execution_count": null,
   "metadata": {
    "collapsed": true
   },
   "outputs": [],
   "source": [
    "# Integrate using Gaussian quadrature\n",
    "value, error = quad(phi.pdf, -2, 2)"
   ]
  },
  {
   "cell_type": "code",
   "execution_count": null,
   "metadata": {
    "collapsed": false
   },
   "outputs": [],
   "source": [
    "value, error = quad(phi.pdf, -2, 2)     #Integrate using gaussian quadrature"
   ]
  },
  {
   "cell_type": "code",
   "execution_count": null,
   "metadata": {
    "collapsed": true
   },
   "outputs": [],
   "source": [
    "quad?"
   ]
  },
  {
   "cell_type": "code",
   "execution_count": null,
   "metadata": {
    "collapsed": false
   },
   "outputs": [],
   "source": [
    "value, error"
   ]
  },
  {
   "cell_type": "markdown",
   "metadata": {},
   "source": [
    "## 5. Matplotlib"
   ]
  },
  {
   "cell_type": "markdown",
   "metadata": {},
   "source": [
    "Matplotlib is perhaps the most popular and comprehensive Python library. The package is primarily used for creating figures and graphs. "
   ]
  },
  {
   "cell_type": "code",
   "execution_count": 73,
   "metadata": {
    "collapsed": true
   },
   "outputs": [],
   "source": [
    "%matplotlib inline\n",
    "import matplotlib.pyplot as plt\n",
    "import numpy as np"
   ]
  },
  {
   "cell_type": "markdown",
   "metadata": {},
   "source": [
    "The `plot` command:"
   ]
  },
  {
   "cell_type": "code",
   "execution_count": 74,
   "metadata": {
    "collapsed": true
   },
   "outputs": [],
   "source": [
    "rng = np.random.RandomState(0)"
   ]
  },
  {
   "cell_type": "markdown",
   "metadata": {},
   "source": [
    "Create axes to plot on:"
   ]
  },
  {
   "cell_type": "code",
   "execution_count": 75,
   "metadata": {
    "collapsed": false
   },
   "outputs": [
    {
     "data": {
      "text/plain": [
       "[<matplotlib.lines.Line2D at 0x10b1106a0>]"
      ]
     },
     "execution_count": 75,
     "metadata": {},
     "output_type": "execute_result"
    },
    {
     "data": {
      "image/png": "[encoded data removed]",
      "text/plain": [
       "<matplotlib.figure.Figure at 0x10b110668>"
      ]
     },
     "metadata": {},
     "output_type": "display_data"
    }
   ],
   "source": [
    "f, ax = plt.subplots()\n",
    "\n",
    "ax.plot(rng.uniform(size=100))"
   ]
  },
  {
   "cell_type": "markdown",
   "metadata": {},
   "source": [
    "Plotting a function: $f(x) = \\sin(x)$:"
   ]
  },
  {
   "cell_type": "code",
   "execution_count": 76,
   "metadata": {
    "collapsed": false
   },
   "outputs": [
    {
     "data": {
      "text/plain": [
       "[<matplotlib.lines.Line2D at 0x10d4c2a90>]"
      ]
     },
     "execution_count": 76,
     "metadata": {},
     "output_type": "execute_result"
    },
    {
     "data": {
      "image/png": "[encoded data removed]",
      "text/plain": [
       "<matplotlib.figure.Figure at 0x10d4c2c88>"
      ]
     },
     "metadata": {},
     "output_type": "display_data"
    }
   ],
   "source": [
    "f, ax = plt.subplots()\n",
    "\n",
    "x = np.linspace(0, 2 * np.pi, 300)\n",
    "y = np.sin(x)\n",
    "\n",
    "ax.plot(x, y)"
   ]
  },
  {
   "cell_type": "markdown",
   "metadata": {},
   "source": [
    "The most frequently used function is simply called `plot`, here is how you can make a simple plot of $\\sin(x)$ and $\\sin(x^2)$ for $x \\in [0, 2\\pi]$ with labels and a grid (we use the semicolon in the last line to suppress the display of some information that is unnecessary right now):"
   ]
  },
  {
   "cell_type": "code",
   "execution_count": null,
   "metadata": {
    "collapsed": false
   },
   "outputs": [],
   "source": [
    "f, ax = plt.subplots()\n",
    "\n",
    "y2 = np.sin(x**2)\n",
    "ax.plot(x, y, label=r'$\\sin(x)$')\n",
    "ax.plot(x, y2, label=r'$\\sin(x^2)$')\n",
    "ax.set_title('Some functions')\n",
    "ax.set_xlabel('x')\n",
    "ax.set_ylabel('y')\n",
    "ax.grid()\n",
    "ax.legend();"
   ]
  },
  {
   "cell_type": "markdown",
   "metadata": {},
   "source": [
    "You can control the style, color and other properties of the markers, for example:"
   ]
  },
  {
   "cell_type": "code",
   "execution_count": null,
   "metadata": {
    "collapsed": false
   },
   "outputs": [],
   "source": [
    "f, (ax0, ax1) = plt.subplots(2, 1, sharex=True)\n",
    "\n",
    "y2 = np.sin(x**2)\n",
    "ax0.plot(x, y)\n",
    "ax0.set_title('Some functions')\n",
    "ax0.set_ylabel('y')\n",
    "\n",
    "ax1.plot(x, y2)\n",
    "ax1.set_xlabel('x')\n",
    "ax1.set_ylabel('Amplitude')\n",
    "\n",
    "ax0.grid()"
   ]
  },
  {
   "cell_type": "code",
   "execution_count": null,
   "metadata": {
    "collapsed": false
   },
   "outputs": [],
   "source": [
    "f, ax = plt.subplots()\n",
    "\n",
    "x = np.linspace(0, 2*np.pi, 50)\n",
    "y = np.sin(x)\n",
    "ax.plot(x, y, linewidth=2);"
   ]
  },
  {
   "cell_type": "code",
   "execution_count": null,
   "metadata": {
    "collapsed": false
   },
   "outputs": [],
   "source": [
    "f, ax = plt.subplots()\n",
    "\n",
    "ax.plot(x, y, 'o', markersize=5, color='r');"
   ]
  },
  {
   "cell_type": "markdown",
   "metadata": {},
   "source": [
    "We will now see how to create a few other common plot types, such as a simple error plot:"
   ]
  },
  {
   "cell_type": "code",
   "execution_count": null,
   "metadata": {
    "collapsed": false
   },
   "outputs": [],
   "source": [
    "f, ax = plt.subplots()\n",
    "\n",
    "# example data\n",
    "x = np.arange(0.1, 4, 0.5)\n",
    "y = np.exp(-x)\n",
    "\n",
    "# example variable error bar values\n",
    "yerr = 0.1 + 0.2*np.sqrt(x)\n",
    "xerr = 0.1 + yerr\n",
    "\n",
    "# First illustrate basic pyplot interface, using defaults where possible.\n",
    "ax.errorbar(x, y, xerr=0.2, yerr=0.4)\n",
    "ax.set_title(\"Simplest errorbars, 0.2 in x, 0.4 in y\");"
   ]
  },
  {
   "cell_type": "markdown",
   "metadata": {},
   "source": [
    "A simple log plot:"
   ]
  },
  {
   "cell_type": "code",
   "execution_count": null,
   "metadata": {
    "collapsed": false
   },
   "outputs": [],
   "source": [
    "f, ax = plt.subplots(figsize=(10, 10))\n",
    "\n",
    "x = np.linspace(-5, 5)\n",
    "y = np.exp(-x**2)\n",
    "\n",
    "ax.grid(which='major', linestyle='-', color='r')\n",
    "ax.grid(which='minor', color='r', linestyle='--')\n",
    "\n",
    "ax.loglog(x, y)"
   ]
  },
  {
   "cell_type": "markdown",
   "metadata": {},
   "source": [
    "A histogram annotated with text inside the plot, using the `text` function:"
   ]
  },
  {
   "cell_type": "code",
   "execution_count": null,
   "metadata": {
    "collapsed": false
   },
   "outputs": [],
   "source": [
    "f, ax = plt.subplots()\n",
    "\n",
    "mu, sigma = 100, 15\n",
    "x = mu + sigma * np.random.randn(10000)\n",
    "\n",
    "# the histogram of the data\n",
    "n, bins, patches = ax.hist(x, 50, normed=1, facecolor='g', alpha=0.75)\n",
    "\n",
    "ax.set_xlabel('Smarts')\n",
    "ax.set_ylabel('Probability')\n",
    "ax.set_title('Histogram of IQ')\n",
    "# This will put a text fragment at the position given:\n",
    "ax.text(55, .027, r'$\\mu=100,\\ \\sigma=15$', fontsize=14)\n",
    "ax.axis([40, 160, 0, 0.03])\n",
    "ax.grid(True)"
   ]
  },
  {
   "cell_type": "markdown",
   "metadata": {},
   "source": [
    "## Plotting two-dimensional arrays"
   ]
  },
  {
   "cell_type": "code",
   "execution_count": null,
   "metadata": {
    "collapsed": false
   },
   "outputs": [],
   "source": [
    "f, (ax0, ax1) = plt.subplots(1, 2, figsize=(12, 8))\n",
    "\n",
    "ax0.imshow(rng.normal(size=(5, 10)), interpolation='nearest', cmap='Blues')\n",
    "ax1.imshow(rng.normal(size=(5, 10)), interpolation='lanczos', cmap='Blues')"
   ]
  },
  {
   "cell_type": "code",
   "execution_count": null,
   "metadata": {
    "collapsed": false
   },
   "outputs": [],
   "source": [
    "f, (ax0, ax1) = plt.subplots(1, 2)\n",
    "\n",
    "ax0.imshow(R, cmap='jet')\n",
    "ax1.imshow(R, cmap=plt.cm.coolwarm)"
   ]
  },
  {
   "cell_type": "code",
   "execution_count": null,
   "metadata": {
    "collapsed": false
   },
   "outputs": [],
   "source": [
    "img = plt.imread('dessert.png')\n",
    "img.shape"
   ]
  },
  {
   "cell_type": "code",
   "execution_count": null,
   "metadata": {
    "collapsed": false
   },
   "outputs": [],
   "source": [
    "plt.imshow(img)"
   ]
  },
  {
   "cell_type": "markdown",
   "metadata": {},
   "source": [
    "## Subplots\n",
    "Plot the r, g, b channels of the image."
   ]
  },
  {
   "cell_type": "code",
   "execution_count": null,
   "metadata": {
    "collapsed": false
   },
   "outputs": [],
   "source": [
    "fig, axes = plt.subplots(1, 4, figsize=(10,6))\n",
    "\n",
    "axes[0].imshow(img[:,:,0], cmap='gray')\n",
    "axes[1].imshow(img[:,:,1], cmap='gray')\n",
    "axes[2].imshow(img[:,:,2], cmap='gray')\n",
    "axes[3].imshow(img);\n",
    "\n",
    "for a in axes:\n",
    "    a.set_xticklabels([])\n",
    "    a.set_yticklabels([])"
   ]
  },
  {
   "cell_type": "markdown",
   "metadata": {},
   "source": [
    "## Simple 3-D plotting with matplotlib"
   ]
  },
  {
   "cell_type": "markdown",
   "metadata": {},
   "source": [
    "Note that you must execute at least once in your session:"
   ]
  },
  {
   "cell_type": "code",
   "execution_count": 77,
   "metadata": {
    "collapsed": true
   },
   "outputs": [],
   "source": [
    "from mpl_toolkits.mplot3d import Axes3D"
   ]
  },
  {
   "cell_type": "markdown",
   "metadata": {},
   "source": [
    "One this has been done, you can create 3d axes with the `projection='3d'` keyword to `add_subplot`:\n",
    "\n",
    "    fig = plt.figure()\n",
    "    fig.add_subplot(<other arguments here>, projection='3d')"
   ]
  },
  {
   "cell_type": "markdown",
   "metadata": {},
   "source": [
    "A simple surface plot:"
   ]
  },
  {
   "cell_type": "code",
   "execution_count": 78,
   "metadata": {
    "collapsed": false
   },
   "outputs": [
    {
     "data": {
      "image/png": "[encoded data removed]",
      "text/plain": [
       "<matplotlib.figure.Figure at 0x10db66ac8>"
      ]
     },
     "metadata": {},
     "output_type": "display_data"
    }
   ],
   "source": [
    "from mpl_toolkits.mplot3d.axes3d import Axes3D\n",
    "from matplotlib import cm\n",
    "\n",
    "fig = plt.figure()\n",
    "ax = fig.add_subplot(1, 1, 1, projection='3d')\n",
    "\n",
    "X = np.arange(-5, 5, 0.25)\n",
    "Y = np.arange(-5, 5, 0.25)\n",
    "\n",
    "X, Y = np.meshgrid(X, Y)\n",
    "R = np.sqrt(X**2 + Y**2)\n",
    "Z = np.sin(R)\n",
    "\n",
    "surf = ax.plot_surface(X, Y, Z, rstride=1, cstride=1, cmap='RdBu', linewidth=0, antialiased=False)\n",
    "\n",
    "ax.set_zlim3d(-1.01, 1.01);"
   ]
  },
  {
   "cell_type": "markdown",
   "metadata": {},
   "source": [
    "## The [matplotlib gallery](http://matplotlib.sourceforge.net/gallery.html)"
   ]
  },
  {
   "cell_type": "code",
   "execution_count": null,
   "metadata": {
    "collapsed": false
   },
   "outputs": [],
   "source": [
    "# %load http://matplotlib.org/mpl_examples/pie_and_polar_charts/polar_scatter_demo.py\n",
    "\"\"\"\n",
    "Demo of scatter plot on a polar axis.\n",
    "\n",
    "Size increases radially in this example and color increases with angle (just to\n",
    "verify the symbols are being scattered correctly).\n",
    "\"\"\"\n",
    "import numpy as np\n",
    "import matplotlib.pyplot as plt\n",
    "\n",
    "\n",
    "N = 150\n",
    "r = 2 * np.random.rand(N)\n",
    "theta = 2 * np.pi * np.random.rand(N)\n",
    "area = 200 * r**2 * np.random.rand(N)\n",
    "colors = theta\n",
    "\n",
    "ax = plt.subplot(111, polar=True)\n",
    "c = plt.scatter(theta, r, c=colors, s=area, cmap=plt.cm.hsv)\n",
    "c.set_alpha(0.75)\n",
    "\n",
    "plt.show()\n"
   ]
  },
  {
   "cell_type": "markdown",
   "metadata": {},
   "source": [
    "## 6. Pandas"
   ]
  },
  {
   "cell_type": "markdown",
   "metadata": {
    "collapsed": true
   },
   "source": [
    "Will be introduced in the session on financial engineering and time series modeling"
   ]
  },
  {
   "cell_type": "markdown",
   "metadata": {},
   "source": [
    "## 7. SymPy"
   ]
  },
  {
   "cell_type": "markdown",
   "metadata": {},
   "source": [
    "It is often useful to be able to manipulate symbolic expressions, as in Mathematica. \n",
    "\n",
    "The SymPy library provides such functionality."
   ]
  },
  {
   "cell_type": "code",
   "execution_count": null,
   "metadata": {
    "collapsed": true
   },
   "outputs": [],
   "source": [
    "from sympy import Symbol"
   ]
  },
  {
   "cell_type": "code",
   "execution_count": null,
   "metadata": {
    "collapsed": true
   },
   "outputs": [],
   "source": [
    "x, y = Symbol('x'), Symbol('y')"
   ]
  },
  {
   "cell_type": "code",
   "execution_count": null,
   "metadata": {
    "collapsed": false
   },
   "outputs": [],
   "source": [
    "x + x + x + y"
   ]
  },
  {
   "cell_type": "markdown",
   "metadata": {},
   "source": [
    "We can also manipulate expressions:"
   ]
  },
  {
   "cell_type": "code",
   "execution_count": null,
   "metadata": {
    "collapsed": false
   },
   "outputs": [],
   "source": [
    "expression = (x + y)**2\n",
    "expression.expand()"
   ]
  },
  {
   "cell_type": "markdown",
   "metadata": {},
   "source": [
    "We can also solve polynomials"
   ]
  },
  {
   "cell_type": "code",
   "execution_count": null,
   "metadata": {
    "collapsed": true
   },
   "outputs": [],
   "source": [
    "from sympy import solve"
   ]
  },
  {
   "cell_type": "code",
   "execution_count": null,
   "metadata": {
    "collapsed": false
   },
   "outputs": [],
   "source": [
    "solve(x**2 + x + 2)"
   ]
  },
  {
   "cell_type": "markdown",
   "metadata": {},
   "source": [
    "SymPy also allows us to calculate limits, derivatives, and integrals"
   ]
  },
  {
   "cell_type": "code",
   "execution_count": null,
   "metadata": {
    "collapsed": true
   },
   "outputs": [],
   "source": [
    "from sympy import limit, sin, diff"
   ]
  },
  {
   "cell_type": "code",
   "execution_count": null,
   "metadata": {
    "collapsed": false
   },
   "outputs": [],
   "source": [
    "limit(1/x, x, 0)"
   ]
  },
  {
   "cell_type": "code",
   "execution_count": null,
   "metadata": {
    "collapsed": false
   },
   "outputs": [],
   "source": [
    "limit(sin(x)/x, x, 0)"
   ]
  },
  {
   "cell_type": "markdown",
   "metadata": {
    "collapsed": false
   },
   "source": [
    "diff(sin(x), x)"
   ]
  },
  {
   "cell_type": "markdown",
   "metadata": {},
   "source": [
    "The true beauty of importing such functionalities into Python is that we are now working within a fully fledged programming Language.\n",
    "Can easily create tables of derivatives, generate libraries."
   ]
  },
  {
   "cell_type": "markdown",
   "metadata": {},
   "source": [
    "# Introductory Applications "
   ]
  },
  {
   "cell_type": "markdown",
   "metadata": {},
   "source": [
    "The following applications can be found in the fantastic tutorial written by Thomas Sargent and John Stachurski. The former is a Nobel Laureate in Economics and the latter is a computational economist.\n",
    "\n",
    "The book is avaialble as jupyter notebooks (in Python and Julia) and pdf.\n",
    "Reference: http://quant-econ.net/index.html\n",
    "\n",
    "The jupyter notebook contains material that cover materials ranging from Dynamical Stackleberg Model to Linear State Space Models.\n",
    "\n",
    "Today, we will look at 2 applications implemented in the quantecon package."
   ]
  },
  {
   "cell_type": "code",
   "execution_count": 79,
   "metadata": {
    "collapsed": true
   },
   "outputs": [],
   "source": [
    "import quantecon"
   ]
  },
  {
   "cell_type": "markdown",
   "metadata": {},
   "source": [
    "## 1. Kalman Filter"
   ]
  },
  {
   "cell_type": "markdown",
   "metadata": {
    "collapsed": true
   },
   "source": [
    "The key idea behind the Kalmand Filter is combining prior knowledge with new information to improve our understanding of the problem at hand. \n",
    "\n",
    "A Kalman Filter is both a Bayes filter as well as g-h filter. "
   ]
  },
  {
   "cell_type": "code",
   "execution_count": 80,
   "metadata": {
    "collapsed": false
   },
   "outputs": [],
   "source": [
    "# Importing the \n",
    "import quantecon.kalman as kalman"
   ]
  },
  {
   "cell_type": "code",
   "execution_count": 81,
   "metadata": {
    "collapsed": false
   },
   "outputs": [],
   "source": [
    "# %load ~/src/QuantEcon.Py/quantecon/kalman.py\n",
    "\"\"\"\n",
    "Filename: kalman.py\n",
    "Reference: http://quant-econ.net/py/kalman.html\n",
    "\n",
    "Implements the Kalman filter for a linear Gaussian state space model.\n",
    "\n",
    "\"\"\"\n",
    "from textwrap import dedent\n",
    "import numpy as np\n",
    "from numpy import dot\n",
    "from scipy.linalg import inv\n",
    "from quantecon.lss import LinearStateSpace\n",
    "from quantecon.matrix_eqn import solve_discrete_riccati\n",
    "\n",
    "\n",
    "class Kalman(object):\n",
    "    r\"\"\"\n",
    "    Implements the Kalman filter for the Gaussian state space model\n",
    "\n",
    "        x_{t+1} = A x_t + C w_{t+1}\n",
    "        y_t = G x_t + H v_t.\n",
    "\n",
    "    Here x_t is the hidden state and y_t is the measurement. The shocks\n",
    "    w_t and v_t are iid standard normals.  Below we use the notation\n",
    "\n",
    "        Q := CC'\n",
    "        R := HH'\n",
    "\n",
    "\n",
    "    Parameters\n",
    "    -----------\n",
    "    ss : instance of LinearStateSpace\n",
    "        An instance of the quantecon.lss.LinearStateSpace class\n",
    "    x_hat : scalar(float) or array_like(float), optional(default=None)\n",
    "        An n x 1 array representing the mean x_hat and covariance\n",
    "        matrix Sigma of the prior/predictive density.  Set to zero if\n",
    "        not supplied.\n",
    "    Sigma : scalar(float) or array_like(float), optional(default=None)\n",
    "        An n x n array representing the covariance matrix Sigma of\n",
    "        the prior/predictive density.  Must be positive definite.\n",
    "        Set to the identity if not supplied.\n",
    "\n",
    "    Attributes\n",
    "    ----------\n",
    "    Sigma, x_hat : as above\n",
    "    Sigma_infinity : array_like or scalar(float)\n",
    "        The infinite limit of Sigma_t\n",
    "    K_infinity : array_like or scalar(float)\n",
    "        The stationary Kalman gain.\n",
    "\n",
    "\n",
    "    References\n",
    "    ----------\n",
    "\n",
    "    http://quant-econ.net/py/kalman.html\n",
    "\n",
    "    \"\"\"\n",
    "\n",
    "    def __init__(self, ss, x_hat=None, Sigma=None):\n",
    "        self.ss = ss\n",
    "        self.set_state(x_hat, Sigma)\n",
    "        self.K_infinity = None\n",
    "        self.Sigma_infinity = None\n",
    "\n",
    "    def set_state(self, x_hat, Sigma):\n",
    "        if Sigma is None:\n",
    "            Sigma = np.identity(self.ss.n)\n",
    "        else:\n",
    "            self.Sigma = np.atleast_2d(Sigma)\n",
    "        if x_hat is None:\n",
    "            x_hat = np.zeros((self.ss.n, 1))\n",
    "        else:\n",
    "            self.x_hat = np.atleast_2d(x_hat)\n",
    "            self.x_hat.shape = self.ss.n, 1\n",
    "\n",
    "    def __repr__(self):\n",
    "        return self.__str__()\n",
    "\n",
    "    def __str__(self):\n",
    "        m = \"\"\"\\\n",
    "        Kalman filter:\n",
    "          - dimension of state space          : {n}\n",
    "          - dimension of observation equation : {k}\n",
    "        \"\"\"\n",
    "        return dedent(m.format(n=self.ss.n, k=self.ss.k))\n",
    "\n",
    "    def whitener_lss(self):\n",
    "        r\"\"\"\n",
    "        This function takes the linear state space system\n",
    "        that is an input to the Kalman class and it converts\n",
    "        that system to the time-invariant whitener represenation\n",
    "        given by\n",
    "\n",
    "            \\tilde{x}_{t+1}^* = \\tilde{A} \\tilde{x} + \\tilde{C} v\n",
    "            a = \\tilde{G} \\tilde{x}\n",
    "\n",
    "        where\n",
    "\n",
    "            \\tilde{x}_t = [x+{t}, \\hat{x}_{t}, v_{t}]\n",
    "\n",
    "        and\n",
    "\n",
    "            \\tilde{A} = [A  0    0\n",
    "                         KG A-KG KH\n",
    "                         0  0    0]\n",
    "\n",
    "            \\tilde{C} = [C 0\n",
    "                         0 0\n",
    "                         0 I]\n",
    "\n",
    "            \\tilde{G} = [G -G H]\n",
    "\n",
    "        with A, C, G, H coming from the linear state space system \n",
    "        that defines the Kalman instance\n",
    "\n",
    "\n",
    "        Returns\n",
    "        -------\n",
    "        whitened_lss : LinearStateSpace\n",
    "            This is the linear state space system that represents\n",
    "            the whitened system\n",
    "        \"\"\"\n",
    "        # Check for steady state Sigma and K\n",
    "        if self.K_infinity is None:\n",
    "            Sig, K = self.stationary_values()\n",
    "            self.Sigma_infinity = Sig\n",
    "            self.K_infinity = K\n",
    "        else:\n",
    "            K = self.K_infinity\n",
    "\n",
    "        # Get the matrix sizes\n",
    "        n, k, m, l = self.ss.n, self.ss.k, self.ss.m, self.ss.l\n",
    "        A, C, G, H = self.ss.A, self.ss.C, self.ss.G, self.ss.H\n",
    "\n",
    "        Atil = np.vstack([np.hstack([A, np.zeros((n, n)), np.zeros((n, l))]),\n",
    "                          np.hstack([dot(K, G), A-dot(K, G), dot(K, H)]),\n",
    "                          np.zeros((l, 2*n + l))])\n",
    "\n",
    "        Ctil = np.vstack([np.hstack([C, np.zeros((n, l))]),\n",
    "                          np.zeros((n, m+l)),\n",
    "                          np.hstack([np.zeros((l, m)), np.eye(l)])])\n",
    "\n",
    "        Gtil = np.hstack([G, -G, H])\n",
    "\n",
    "        whitened_lss = LinearStateSpace(Atil, Ctil, Gtil)\n",
    "        self.whitened_lss = whitened_lss\n",
    "\n",
    "        return whitened_lss\n",
    "\n",
    "\n",
    "    def prior_to_filtered(self, y):\n",
    "        r\"\"\"\n",
    "        Updates the moments (x_hat, Sigma) of the time t prior to the\n",
    "        time t filtering distribution, using current measurement y_t.\n",
    "\n",
    "        The updates are according to\n",
    "\n",
    "            x_{hat}^F = x_{hat} + Sigma G' (G Sigma G' + R)^{-1}\n",
    "                (y - G x_{hat})\n",
    "            Sigma^F = Sigma - Sigma G' (G Sigma G' + R)^{-1} G\n",
    "                Sigma\n",
    "\n",
    "        Parameters\n",
    "        ----------\n",
    "        y : scalar or array_like(float)\n",
    "            The current measurement\n",
    "\n",
    "        \"\"\"\n",
    "        # === simplify notation === #\n",
    "        G, H = self.ss.G, self.ss.H\n",
    "        R = np.dot(H, H.T)\n",
    "\n",
    "        # === and then update === #\n",
    "        y = np.atleast_2d(y)\n",
    "        y.shape = self.ss.k, 1\n",
    "        E = dot(self.Sigma, G.T)\n",
    "        F = dot(dot(G, self.Sigma), G.T) + R\n",
    "        M = dot(E, inv(F))\n",
    "        self.x_hat = self.x_hat + dot(M, (y - dot(G, self.x_hat)))\n",
    "        self.Sigma = self.Sigma - dot(M, dot(G,  self.Sigma))\n",
    "\n",
    "    def filtered_to_forecast(self):\n",
    "        \"\"\"\n",
    "        Updates the moments of the time t filtering distribution to the\n",
    "        moments of the predictive distribution, which becomes the time\n",
    "        t+1 prior\n",
    "\n",
    "        \"\"\"\n",
    "        # === simplify notation === #\n",
    "        A, C = self.ss.A, self.ss.C\n",
    "        Q = np.dot(C, C.T)\n",
    "\n",
    "        # === and then update === #\n",
    "        self.x_hat = dot(A, self.x_hat)\n",
    "        self.Sigma = dot(A, dot(self.Sigma, A.T)) + Q\n",
    "\n",
    "    def update(self, y):\n",
    "        \"\"\"\n",
    "        Updates x_hat and Sigma given k x 1 ndarray y.  The full\n",
    "        update, from one period to the next\n",
    "\n",
    "        Parameters\n",
    "        ----------\n",
    "        y : np.ndarray\n",
    "            A k x 1 ndarray y representing the current measurement\n",
    "\n",
    "        \"\"\"\n",
    "        self.prior_to_filtered(y)\n",
    "        self.filtered_to_forecast()\n",
    "\n",
    "    def stationary_values(self):\n",
    "        \"\"\"\n",
    "        Computes the limit of Sigma_t as t  goes to infinity by\n",
    "        solving the associated Riccati equation.  Computation is via the\n",
    "        doubling algorithm (see the documentation in\n",
    "        `matrix_eqn.solve_discrete_riccati`).\n",
    "\n",
    "        Returns\n",
    "        -------\n",
    "        Sigma_infinity : array_like or scalar(float)\n",
    "            The infinite limit of Sigma_t\n",
    "        K_infinity : array_like or scalar(float)\n",
    "            The stationary Kalman gain.\n",
    "\n",
    "        \"\"\"\n",
    "        # === simplify notation === #\n",
    "        A, C, G, H = self.ss.A, self.ss.C, self.ss.G, self.ss.H\n",
    "        Q, R = np.dot(C, C.T), np.dot(H, H.T)\n",
    "\n",
    "        # === solve Riccati equation, obtain Kalman gain === #\n",
    "        Sigma_infinity = solve_discrete_riccati(A.T, G.T, Q, R)\n",
    "        temp1 = dot(dot(A, Sigma_infinity), G.T)\n",
    "        temp2 = inv(dot(G, dot(Sigma_infinity, G.T)) + R)\n",
    "        K_infinity = dot(temp1, temp2)\n",
    "\n",
    "        # == record as attributes and return == #\n",
    "        self.Sigma_infinity, self.K_infinity = Sigma_infinity, K_infinity\n",
    "        return Sigma_infinity, K_infinity\n",
    "\n",
    "    def stationary_coefficients(self, j, coeff_type='ma'):\n",
    "        \"\"\"\n",
    "        Wold representation moving average or VAR coefficients for the\n",
    "        steady state Kalman filter.\n",
    "\n",
    "        Parameters\n",
    "        ----------\n",
    "        j : int\n",
    "            The lag length\n",
    "        coeff_type : string, either 'ma' or 'var' (default='ma')\n",
    "            The type of coefficent sequence to compute.  Either 'ma' for\n",
    "            moving average or 'var' for VAR.\n",
    "        \"\"\"\n",
    "        # == simplify notation == #\n",
    "        A, G = self.ss.A, self.ss.G\n",
    "        K_infinity = self.K_infinity\n",
    "        # == make sure that K_infinity has actually been computed == #\n",
    "        if K_infinity is None:\n",
    "            S, K_infinity = self.stationary_values()\n",
    "        # == compute and return coefficients == #\n",
    "        coeffs = []\n",
    "        i = 1\n",
    "        if coeff_type == 'ma':\n",
    "            coeffs.append(np.identity(self.ss.k))\n",
    "            P_mat = A\n",
    "            P = np.identity(self.ss.n)  # Create a copy\n",
    "        elif coeff_type == 'var':\n",
    "            coeffs.append(dot(G, K_infinity))\n",
    "            P_mat = A - dot(K_infinity, G)\n",
    "            P = np.copy(P_mat)  # Create a copy\n",
    "        else:\n",
    "            raise ValueError(\"Unknown coefficient type\")\n",
    "        while i <= j:\n",
    "            coeffs.append(dot(dot(G, P), K_infinity))\n",
    "            P = dot(P, P_mat)\n",
    "            i += 1\n",
    "        return coeffs\n",
    "\n",
    "    def stationary_innovation_covar(self):\n",
    "        # == simplify notation == #\n",
    "        H, G = self.ss.H, self.ss.G\n",
    "        R = np.dot(H, H.T)\n",
    "        Sigma_infinity = self.Sigma_infinity\n",
    "\n",
    "        # == make sure that Sigma_infinity has been computed == #\n",
    "        if Sigma_infinity is None:\n",
    "            Sigma_infinity, K = self.stationary_values()\n",
    "        return dot(G, dot(Sigma_infinity, G.T)) + R\n"
   ]
  },
  {
   "cell_type": "markdown",
   "metadata": {},
   "source": [
    "Consider the following simple application of the Kalman filter, loosely based on [LS12], section 2.9.2 (quantecon)\n",
    "\n",
    "Suppose that\n",
    "\n",
    "all variables are scalars\n",
    "the hidden state $\\{x_t\\}$ is in fact constant, equal to some $θ∈ℝ$ unknown to the modeler\n",
    "State dynamics are therefore given by (5) with $A=1$, $Q=0$ and $x_0=\\theta$\n",
    "\n",
    "The measurement equation is $y_t=\\theta+v_t$ where $v_t$ is $N(0,1)$ and iid\n",
    "\n",
    "The task of this exercise to simulate the model and, using the code from kalman.py, plot the first five predictive densities $p_t(x)=N(x̂_t,Σ_t)$\n",
    "\n",
    "As shown in [LS12], sections 2.9.1–2.9.2, these distributions asymptotically put all mass on the unknown value $θ$.\n",
    "\n",
    "In the simulation, take $θ=10$, $x̂_0=8$ and $Σ_0=1$.\n",
    "\n",
    "Your figure should – modulo randomness – look something like this"
   ]
  },
  {
   "cell_type": "code",
   "execution_count": 84,
   "metadata": {
    "collapsed": false
   },
   "outputs": [
    {
     "data": {
      "text/plain": [
       "<matplotlib.legend.Legend at 0x11ca0c6a0>"
      ]
     },
     "execution_count": 84,
     "metadata": {},
     "output_type": "execute_result"
    },
    {
     "data": {
      "image/png": "[encoded data removed]",
      "text/plain": [
       "<matplotlib.figure.Figure at 0x11d0a1390>"
      ]
     },
     "metadata": {},
     "output_type": "display_data"
    }
   ],
   "source": [
    "# == parameters == #\n",
    "theta = 10  # Constant value of state x_t\n",
    "A, C, G, H = 1, 0, 1, 1\n",
    "ss = LinearStateSpace(A, C, G, H, mu_0=theta)\n",
    "\n",
    "# == set prior, initialize kalman filter == #\n",
    "x_hat_0, Sigma_0 = 8, 1\n",
    "kalman = Kalman(ss, x_hat_0, Sigma_0)\n",
    "\n",
    "# == draw observations of y from state space model == #\n",
    "N = 5\n",
    "x, y = ss.simulate(N)\n",
    "y = y.flatten()\n",
    "\n",
    "# == set up plot == #\n",
    "fig, ax = plt.subplots(figsize=(10,8))\n",
    "xgrid = np.linspace(theta - 5, theta + 2, 200)\n",
    "\n",
    "for i in range(N):\n",
    "    # == record the current predicted mean and variance == #\n",
    "    m, v = [float(z) for z in (kalman.x_hat, kalman.Sigma)]\n",
    "    # == plot, update filter == #\n",
    "    ax.plot(xgrid, norm.pdf(xgrid, loc=m, scale=np.sqrt(v)), label=r'$t=%d$' % i)\n",
    "    kalman.update(y[i])\n",
    "\n",
    "ax.set_title(r'First %d densities when $\\theta = %.1f$' % (N, theta)) \n",
    "ax.legend(loc='upper left')"
   ]
  },
  {
   "cell_type": "markdown",
   "metadata": {},
   "source": [
    "## 2. LQ Dynamic Programming Problems"
   ]
  },
  {
   "cell_type": "code",
   "execution_count": 85,
   "metadata": {
    "collapsed": true
   },
   "outputs": [],
   "source": [
    "import quantecon.lqcontrol"
   ]
  },
  {
   "cell_type": "code",
   "execution_count": 86,
   "metadata": {
    "collapsed": true
   },
   "outputs": [],
   "source": [
    "# %load /Users/kevinli/src/QuantEcon.py/quantecon/matrix_eqn.py\n",
    "\"\"\"\n",
    "Filename: matrix_eqn.py\n",
    "\n",
    "This files holds several functions that are used to solve matrix\n",
    "equations.  Currently has functionality to solve:\n",
    "\n",
    "* Lyapunov Equations\n",
    "* Ricatti Equations\n",
    "\n",
    "TODO: See issue 47 on github repository, should add support for\n",
    "      Sylvester equations\n",
    "\n",
    "\"\"\"\n",
    "from __future__ import division\n",
    "import numpy as np\n",
    "import warnings\n",
    "from numpy import dot\n",
    "from numpy.linalg import solve\n",
    "from scipy.linalg import solve_discrete_lyapunov as sp_solve_discrete_lyapunov\n",
    "\n",
    "# == Suppress warnings from checking conditioning of matrices == #\n",
    "warnings.simplefilter(\"ignore\", RuntimeWarning)\n",
    "\n",
    "\n",
    "def solve_discrete_lyapunov(A, B, max_it=50, method=\"doubling\"):\n",
    "    r\"\"\"\n",
    "    Computes the solution to the discrete lyapunov equation\n",
    "\n",
    "    .. math::\n",
    "\n",
    "        AXA' - X + B = 0\n",
    "\n",
    "    X is computed by using a doubling algorithm. In particular, we\n",
    "    iterate to convergence on X_j with the following recursions for j =\n",
    "    1, 2,... starting from X_0 = B, a_0 = A:\n",
    "\n",
    "    .. math::\n",
    "\n",
    "        a_j = a_{j-1} a_{j-1}\n",
    "\n",
    "        X_j = X_{j-1} + a_{j-1} X_{j-1} a_{j-1}'\n",
    "\n",
    "    Parameters\n",
    "    ----------\n",
    "    A : array_like(float, ndim=2)\n",
    "        An n x n matrix as described above.  We assume in order for\n",
    "        convergence that the eigenvalues of A have moduli bounded by\n",
    "        unity\n",
    "    B : array_like(float, ndim=2)\n",
    "        An n x n matrix as described above.  We assume in order for\n",
    "        convergence that the eigenvalues of A have moduli bounded by\n",
    "        unity\n",
    "    max_it : scalar(int), optional(default=50)\n",
    "        The maximum number of iterations\n",
    "    method : string, optional(default=\"doubling\")\n",
    "        Describes the solution method to use.  If it is \"doubling\" then\n",
    "        uses the doubling algorithm to solve, if it is \"bartels-stewart\"\n",
    "        then it uses scipy's implementation of the Bartels-Stewart\n",
    "        approach.\n",
    "\n",
    "    Returns\n",
    "    ========\n",
    "    gamma1: array_like(float, ndim=2)\n",
    "        Represents the value V\n",
    "\n",
    "    \"\"\"\n",
    "    if method == \"doubling\":\n",
    "        A, B = list(map(np.atleast_2d, [A, B]))\n",
    "        alpha0 = A\n",
    "        gamma0 = B\n",
    "\n",
    "        diff = 5\n",
    "        n_its = 1\n",
    "\n",
    "        while diff > 1e-15:\n",
    "\n",
    "            alpha1 = alpha0.dot(alpha0)\n",
    "            gamma1 = gamma0 + np.dot(alpha0.dot(gamma0), alpha0.conjugate().T)\n",
    "\n",
    "            diff = np.max(np.abs(gamma1 - gamma0))\n",
    "            alpha0 = alpha1\n",
    "            gamma0 = gamma1\n",
    "\n",
    "            n_its += 1\n",
    "\n",
    "            if n_its > max_it:\n",
    "                msg = \"Exceeded maximum iterations {}, check input matrics\"\n",
    "                raise ValueError(msg.format(n_its))\n",
    "\n",
    "    elif method == \"bartels-stewart\":\n",
    "        gamma1 = sp_solve_discrete_lyapunov(A, B)\n",
    "\n",
    "    else:\n",
    "        msg = \"Check your method input. Should be doubling or bartels-stewart\"\n",
    "        raise ValueError(msg)\n",
    "\n",
    "    return gamma1\n",
    "\n",
    "\n",
    "def solve_discrete_riccati(A, B, Q, R, N=None, tolerance=1e-10, max_iter=500):\n",
    "    \"\"\"\n",
    "    Solves the discrete-time algebraic Riccati equation\n",
    "\n",
    "        X = A'XA - (N + B'XA)'(B'XB + R)^{-1}(N + B'XA) + Q\n",
    "\n",
    "    via a modified structured doubling algorithm.  An explanation of the\n",
    "    algorithm can be found in the reference below.\n",
    "\n",
    "    Note that SciPy also has a discrete riccati equation solver.  However it\n",
    "    cannot handle the case where R is not invertible, or when N is nonzero.\n",
    "    Both of these cases can be handled in the algorithm implemented below.\n",
    "\n",
    "    Parameters\n",
    "    ----------\n",
    "    A : array_like(float, ndim=2)\n",
    "        k x k array.\n",
    "    B : array_like(float, ndim=2)\n",
    "        k x n array\n",
    "    Q : array_like(float, ndim=2)\n",
    "        k x k, should be symmetric and non-negative definite\n",
    "    R : array_like(float, ndim=2)\n",
    "        n x n, should be symmetric and positive definite\n",
    "    N : array_like(float, ndim=2)\n",
    "        n x k array\n",
    "    tolerance : scalar(float), optional(default=1e-10)\n",
    "        The tolerance level for convergence\n",
    "    max_iter : scalar(int), optional(default=500)\n",
    "        The maximum number of iterations allowed\n",
    "\n",
    "    Returns\n",
    "    -------\n",
    "    X : array_like(float, ndim=2)\n",
    "        The fixed point of the Riccati equation; a  k x k array\n",
    "        representing the approximate solution\n",
    "\n",
    "    References\n",
    "    ----------\n",
    "    Chiang, Chun-Yueh, Hung-Yuan Fan, and Wen-Wei Lin. \"STRUCTURED DOUBLING\n",
    "    ALGORITHM FOR DISCRETE-TIME ALGEBRAIC RICCATI EQUATIONS WITH SINGULAR\n",
    "    CONTROL WEIGHTING MATRICES.\" Taiwanese Journal of Mathematics 14, no. 3A\n",
    "    (2010): pp-935.\n",
    "\n",
    "    \"\"\"\n",
    "    # == Set up == #\n",
    "    error = tolerance + 1\n",
    "    fail_msg = \"Convergence failed after {} iterations.\"\n",
    "\n",
    "    # == Make sure that all array_likes are np arrays, two-dimensional == #\n",
    "    A, B, Q, R = np.atleast_2d(A, B, Q, R)\n",
    "    n, k = R.shape[0], Q.shape[0]\n",
    "    I = np.identity(k)\n",
    "    if N is None:\n",
    "        N = np.zeros((n, k))\n",
    "    else:\n",
    "        N = np.atleast_2d(N)\n",
    "\n",
    "    # == Choose optimal value of gamma in R_hat = R + gamma B'B == #\n",
    "    current_min = np.inf\n",
    "    candidates = (0.0, 0.01, 0.1, 0.25, 0.5, 1.0, 2.0, 10.0, 100.0, 10e5)\n",
    "    BB = dot(B.T, B)\n",
    "    BTA = dot(B.T, A)\n",
    "    for gamma in candidates:\n",
    "        Z = R + gamma * BB\n",
    "        cn = np.linalg.cond(Z)\n",
    "        if np.isfinite(cn):\n",
    "            Q_tilde = - Q + dot(N.T, solve(Z, N + gamma * BTA)) + gamma * I\n",
    "            G0 = dot(B, solve(Z, B.T))\n",
    "            A0 = dot(I - gamma * G0, A) - dot(B, solve(Z, N))\n",
    "            H0 = gamma * dot(A.T, A0) - Q_tilde\n",
    "            f1 = np.linalg.cond(Z, np.inf)\n",
    "            f2 = gamma * f1\n",
    "            f3 = np.linalg.cond(I + dot(G0, H0))\n",
    "            f_gamma = max(f1, f2, f3)\n",
    "            if f_gamma < current_min:\n",
    "                best_gamma = gamma\n",
    "                current_min = f_gamma\n",
    "\n",
    "    # == If no candidate successful then fail == #\n",
    "    if current_min == np.inf:\n",
    "        msg = \"Unable to initialize routine due to ill conditioned arguments\"\n",
    "        raise ValueError(msg)\n",
    "\n",
    "    gamma = best_gamma\n",
    "    R_hat = R + gamma * BB\n",
    "\n",
    "    # == Initial conditions == #\n",
    "    Q_tilde = - Q + dot(N.T, solve(R_hat, N + gamma * BTA)) + gamma * I\n",
    "    G0 = dot(B, solve(R_hat, B.T))\n",
    "    A0 = dot(I - gamma * G0, A) - dot(B, solve(R_hat, N))\n",
    "    H0 = gamma * dot(A.T, A0) - Q_tilde\n",
    "    i = 1\n",
    "\n",
    "    # == Main loop == #\n",
    "    while error > tolerance:\n",
    "\n",
    "        if i > max_iter:\n",
    "            raise ValueError(fail_msg.format(i))\n",
    "\n",
    "        else:\n",
    "            A1 = dot(A0, solve(I + dot(G0, H0), A0))\n",
    "            G1 = G0 + dot(dot(A0, G0), solve(I + dot(H0, G0), A0.T))\n",
    "            H1 = H0 + dot(A0.T, solve(I + dot(H0, G0), dot(H0, A0)))\n",
    "\n",
    "            error = np.max(np.abs(H1 - H0))\n",
    "            A0 = A1\n",
    "            G0 = G1\n",
    "            H0 = H1\n",
    "            i += 1\n",
    "\n",
    "    return H1 + gamma * I  # Return X\n"
   ]
  },
  {
   "cell_type": "code",
   "execution_count": null,
   "metadata": {
    "collapsed": false
   },
   "outputs": [],
   "source": [
    "# %load /Users/kevinli/src/QuantEcon.py/quantecon/lqcontrol.py\n",
    "\"\"\"\n",
    "Filename: lqcontrol.py\n",
    "\n",
    "Authors: Thomas J. Sargent, John Stachurski\n",
    "\n",
    "Provides a class called LQ for solving linear quadratic control\n",
    "problems.\n",
    "\n",
    "\"\"\"\n",
    "from textwrap import dedent\n",
    "import numpy as np\n",
    "from numpy import dot\n",
    "from scipy.linalg import solve\n",
    "#from matrix_eqn import solve_discrete_riccati\n",
    "\n",
    "\n",
    "class LQ(object):\n",
    "    r\"\"\"\n",
    "    This class is for analyzing linear quadratic optimal control\n",
    "    problems of either the infinite horizon form\n",
    "\n",
    "    .     min E sum_{t=0}^{\\infty} beta^t r(x_t, u_t)\n",
    "\n",
    "    with\n",
    "\n",
    "         r(x_t, u_t) := x_t' R x_t + u_t' Q u_t + 2 u_t' N x_t\n",
    "\n",
    "    or the finite horizon form\n",
    "\n",
    "         min E sum_{t=0}^{T-1} beta^t r(x_t, u_t) + beta^T x_T' R_f x_T\n",
    "\n",
    "    Both are minimized subject to the law of motion\n",
    "\n",
    "         x_{t+1} = A x_t + B u_t + C w_{t+1}\n",
    "\n",
    "    Here x is n x 1, u is k x 1, w is j x 1 and the matrices are\n",
    "    conformable for these dimensions.  The sequence {w_t} is assumed to\n",
    "    be white noise, with zero mean and E w_t w_t = I, the j x j\n",
    "    identity.\n",
    "\n",
    "    If C is not supplied as a parameter, the model is assumed to be\n",
    "    deterministic (and C is set to a zero matrix of appropriate\n",
    "    dimension).\n",
    "\n",
    "    For this model, the time t value (i.e., cost-to-go) function V_t\n",
    "    takes the form\n",
    "\n",
    "         x' P_T x + d_T\n",
    "\n",
    "    and the optimal policy is of the form u_T = -F_T x_T.  In\n",
    "    the infinite horizon case, V, P, d and F are all stationary.\n",
    "\n",
    "    Parameters\n",
    "    ----------\n",
    "    Q : array_like(float)\n",
    "        Q is the payoff(or cost) matrix that corresponds with the\n",
    "        control variable u and is k x k. Should be symmetric and\n",
    "        nonnegative definite\n",
    "    R : array_like(float)\n",
    "        R is the payoff(or cost) matrix that corresponds with the\n",
    "        state variable x and is n x n. Should be symetric and\n",
    "        non-negative definite\n",
    "    N : array_like(float)\n",
    "        N is the cross product term in the payoff, as above.  It should\n",
    "        be k x n.\n",
    "    A : array_like(float)\n",
    "        A is part of the state transition as described above. It should\n",
    "        be n x n\n",
    "    B : array_like(float)\n",
    "        B is part of the state transition as described above. It should\n",
    "        be n x k\n",
    "    C : array_like(float), optional(default=None)\n",
    "        C is part of the state transition as described above and\n",
    "        corresponds to the random variable today.  If the model is\n",
    "        deterministic then C should take default value of None\n",
    "    beta : scalar(float), optional(default=1)\n",
    "        beta is the discount parameter\n",
    "    T : scalar(int), optional(default=None)\n",
    "        T is the number of periods in a finite horizon problem.\n",
    "    Rf : array_like(float), optional(default=None)\n",
    "        Rf is the final (in a finite horizon model) payoff(or cost)\n",
    "        matrix that corresponds with the control variable u and is n x\n",
    "        n.  Should be symetric and non-negative definite\n",
    "\n",
    "\n",
    "    Attributes\n",
    "    ----------\n",
    "    Q, R, N, A, B, C, beta, T, Rf : see Parameters\n",
    "    P : array_like(float)\n",
    "        P is part of the value function representation of V(x) = x'Px + d\n",
    "    d : array_like(float)\n",
    "        d is part of the value function representation of V(x) = x'Px + d\n",
    "    F : array_like(float)\n",
    "        F is the policy rule that determines the choice of control in\n",
    "        each period.\n",
    "    k, n, j : scalar(int)\n",
    "        The dimensions of the matrices as presented above\n",
    "\n",
    "    \"\"\"\n",
    "\n",
    "    def __init__(self, Q, R, A, B, C=None, N=None, beta=1, T=None, Rf=None):\n",
    "        # == Make sure all matrices can be treated as 2D arrays == #\n",
    "        converter = lambda X: np.atleast_2d(np.asarray(X, dtype='float'))\n",
    "        self.A, self.B, self.Q, self.R, self.N = list(map(converter,\n",
    "                                                          (A, B, Q, R, N)))\n",
    "        # == Record dimensions == #\n",
    "        self.k, self.n = self.Q.shape[0], self.R.shape[0]\n",
    "\n",
    "        self.beta = beta\n",
    "\n",
    "        if C is None:\n",
    "            # == If C not given, then model is deterministic. Set C=0. == #\n",
    "            self.j = 1\n",
    "            self.C = np.zeros((self.n, self.j))\n",
    "        else:\n",
    "            self.C = converter(C)\n",
    "            self.j = self.C.shape[1]\n",
    "\n",
    "        if N is None:\n",
    "            # == No cross product term in payoff. Set N=0. == #\n",
    "            self.N = np.zeros((self.k, self.n))\n",
    "\n",
    "        if T:\n",
    "            # == Model is finite horizon == #\n",
    "            self.T = T\n",
    "            self.Rf = np.asarray(Rf, dtype='float')\n",
    "            self.P = self.Rf\n",
    "            self.d = 0\n",
    "        else:\n",
    "            self.P = None\n",
    "            self.d = None\n",
    "            self.T = None\n",
    "\n",
    "        self.F = None\n",
    "\n",
    "    def __repr__(self):\n",
    "        return self.__str__()\n",
    "\n",
    "    def __str__(self):\n",
    "        m = \"\"\"\\\n",
    "        Linear Quadratic control system\n",
    "          - beta (discount parameter)   : {b}\n",
    "          - T (time horizon)            : {t}\n",
    "          - n (number of state variables)   : {n}\n",
    "          - k (number of control variables) : {k}\n",
    "          - j (number of shocks)            : {j}\n",
    "        \"\"\"\n",
    "        t = \"infinite\" if self.T is None else self.T\n",
    "        return dedent(m.format(b=self.beta, n=self.n, k=self.k, j=self.j,\n",
    "                               t=t))\n",
    "\n",
    "    def update_values(self):\n",
    "        \"\"\"\n",
    "        This method is for updating in the finite horizon case.  It\n",
    "        shifts the current value function\n",
    "\n",
    "             V_t(x) = x' P_t x + d_t\n",
    "\n",
    "        and the optimal policy F_t one step *back* in time,\n",
    "        replacing the pair P_t and d_t with\n",
    "        P_{t-1} and d_{t-1}, and F_t with\n",
    "        F_{t-1}\n",
    "\n",
    "        \"\"\"\n",
    "        # === Simplify notation === #\n",
    "        Q, R, A, B, N, C = self.Q, self.R, self.A, self.B, self.N, self.C\n",
    "        P, d = self.P, self.d\n",
    "        # == Some useful matrices == #\n",
    "        S1 = Q + self.beta * dot(B.T, dot(P, B))\n",
    "        S2 = self.beta * dot(B.T, dot(P, A)) + N\n",
    "        S3 = self.beta * dot(A.T, dot(P, A))\n",
    "        # == Compute F as (Q + B'PB)^{-1} (beta B'PA + N) == #\n",
    "        self.F = solve(S1, S2)\n",
    "        # === Shift P back in time one step == #\n",
    "        new_P = R - dot(S2.T, self.F) + S3\n",
    "        # == Recalling that trace(AB) = trace(BA) == #\n",
    "        new_d = self.beta * (d + np.trace(dot(P, dot(C, C.T))))\n",
    "        # == Set new state == #\n",
    "        self.P, self.d = new_P, new_d\n",
    "\n",
    "    def stationary_values(self):\n",
    "        \"\"\"\n",
    "        Computes the matrix P and scalar d that represent the value\n",
    "        function\n",
    "\n",
    "             V(x) = x' P x + d\n",
    "\n",
    "        in the infinite horizon case.  Also computes the control matrix\n",
    "        F from u = - Fx\n",
    "\n",
    "        Returns\n",
    "        -------\n",
    "        P : array_like(float)\n",
    "            P is part of the value function representation of\n",
    "            V(x) = xPx + d\n",
    "        F : array_like(float)\n",
    "            F is the policy rule that determines the choice of control\n",
    "            in each period.\n",
    "        d : array_like(float)\n",
    "            d is part of the value function representation of\n",
    "            V(x) = xPx + d\n",
    "\n",
    "        \"\"\"\n",
    "        # === simplify notation === #\n",
    "        Q, R, A, B, N, C = self.Q, self.R, self.A, self.B, self.N, self.C\n",
    "\n",
    "        # === solve Riccati equation, obtain P === #\n",
    "        A0, B0 = np.sqrt(self.beta) * A, np.sqrt(self.beta) * B\n",
    "        P = solve_discrete_riccati(A0, B0, R, Q, N)\n",
    "\n",
    "        # == Compute F == #\n",
    "        S1 = Q + self.beta * dot(B.T, dot(P, B))\n",
    "        S2 = self.beta * dot(B.T, dot(P, A)) + N\n",
    "        F = solve(S1, S2)\n",
    "\n",
    "        # == Compute d == #\n",
    "        d = self.beta * np.trace(dot(P, dot(C, C.T))) / (1 - self.beta)\n",
    "\n",
    "        # == Bind states and return values == #\n",
    "        self.P, self.F, self.d = P, F, d\n",
    "\n",
    "        return P, F, d\n",
    "\n",
    "    def compute_sequence(self, x0, ts_length=None):\n",
    "        \"\"\"\n",
    "        Compute and return the optimal state and control sequences\n",
    "        x_0, ..., x_T and u_0,..., u_T  under the\n",
    "        assumption that {w_t} is iid and N(0, 1).\n",
    "\n",
    "        Parameters\n",
    "        ===========\n",
    "        x0 : array_like(float)\n",
    "            The initial state, a vector of length n\n",
    "\n",
    "        ts_length : scalar(int)\n",
    "            Length of the simulation -- defaults to T in finite case\n",
    "\n",
    "        Returns\n",
    "        ========\n",
    "        x_path : array_like(float)\n",
    "            An n x T matrix, where the t-th column represents x_t\n",
    "\n",
    "        u_path : array_like(float)\n",
    "            A k x T matrix, where the t-th column represents u_t\n",
    "\n",
    "        w_path : array_like(float)\n",
    "            A j x T matrix, where the t-th column represent w_t\n",
    "\n",
    "        \"\"\"\n",
    "\n",
    "        # === Simplify notation === #\n",
    "        A, B, C = self.A, self.B, self.C\n",
    "\n",
    "        # == Preliminaries, finite horizon case == #\n",
    "        if self.T:\n",
    "            T = self.T if not ts_length else min(ts_length, self.T)\n",
    "            self.P, self.d = self.Rf, 0\n",
    "\n",
    "        # == Preliminaries, infinite horizon case == #\n",
    "        else:\n",
    "            T = ts_length if ts_length else 100\n",
    "            self.stationary_values()\n",
    "\n",
    "        # == Set up initial condition and arrays to store paths == #\n",
    "        x0 = np.asarray(x0)\n",
    "        x0 = x0.reshape(self.n, 1)  # Make sure x0 is a column vector\n",
    "        x_path = np.empty((self.n, T+1))\n",
    "        u_path = np.empty((self.k, T))\n",
    "        w_path = dot(C, np.random.randn(self.j, T+1))\n",
    "\n",
    "        # == Compute and record the sequence of policies == #\n",
    "        policies = []\n",
    "        for t in range(T):\n",
    "            if self.T:  # Finite horizon case\n",
    "                self.update_values()\n",
    "            policies.append(self.F)\n",
    "\n",
    "        # == Use policy sequence to generate states and controls == #\n",
    "        F = policies.pop()\n",
    "        x_path[:, 0] = x0.flatten()\n",
    "        u_path[:, 0] = - dot(F, x0).flatten()\n",
    "        for t in range(1, T):\n",
    "            F = policies.pop()\n",
    "            Ax, Bu = dot(A, x_path[:, t-1]), dot(B, u_path[:, t-1])\n",
    "            x_path[:, t] = Ax + Bu + w_path[:, t]\n",
    "            u_path[:, t] = - dot(F, x_path[:, t])\n",
    "        Ax, Bu = dot(A, x_path[:, T-1]), dot(B, u_path[:, T-1])\n",
    "        x_path[:, T] = Ax + Bu + w_path[:, T]\n",
    "\n",
    "        return x_path, u_path, w_path\n"
   ]
  },
  {
   "cell_type": "markdown",
   "metadata": {},
   "source": [
    "## An Application: Consumer Consumption ##"
   ]
  },
  {
   "cell_type": "markdown",
   "metadata": {},
   "source": [
    "Consider a household budget constraint given by\n",
    "\n",
    "$a_{t+1}+c_t=(1+r)a_t+y_t$\n",
    "\n",
    "Here atat is assets, $r$ is a fixed interest rate, $c_t$ is current consumption, and $y_t$ is current non-financial income\n",
    "\n",
    "If we suppose that $\\{y_t\\}$ is uncorrelated and $N(0,σ_2)$, then, taking $\\{w_t\\}$ to be standard normal, we can write the system as\n",
    "\n",
    "$a_{t+1}=(1+r)a_t−c_t+σw_t+1$\n",
    "This is clearly a special case that may be captured via \\textit{Law of Motion}, with assets being the state and consumption being the control\n",
    "\n",
    "Given the consumer's utility function (which aims for smooth consumption): $u_2^t=(c_t−\\bar{c})2$, how would we expect the consumer to behave?"
   ]
  },
  {
   "cell_type": "code",
   "execution_count": 87,
   "metadata": {
    "collapsed": false
   },
   "outputs": [
    {
     "data": {
      "image/png": "[encoded data removed]",
      "text/plain": [
       "<matplotlib.figure.Figure at 0x11ca59f98>"
      ]
     },
     "metadata": {},
     "output_type": "display_data"
    }
   ],
   "source": [
    "import matplotlib.pyplot as plt\n",
    "from quantecon import LQ\n",
    "\n",
    "# == Model parameters == #\n",
    "r       = 0.05\n",
    "beta    = 1 / (1 + r)\n",
    "T       = 45\n",
    "c_bar   = 2\n",
    "sigma   = 0.25\n",
    "mu      = 1\n",
    "q       = 1e6\n",
    "\n",
    "# == Formulate as an LQ problem == #\n",
    "Q = 1\n",
    "R = np.zeros((2, 2))\n",
    "Rf = np.zeros((2, 2))\n",
    "Rf[0, 0] = q\n",
    "A = [[1 + r, -c_bar + mu],\n",
    "     [0,     1]]\n",
    "B = [[-1],\n",
    "     [0]]\n",
    "C = [[sigma],\n",
    "     [0]]\n",
    "\n",
    "# == Compute solutions and simulate == #\n",
    "lq = LQ(Q, R, A, B, C, beta=beta, T=T, Rf=Rf)\n",
    "x0 = (0, 1)\n",
    "xp, up, wp = lq.compute_sequence(x0)\n",
    "\n",
    "# == Convert back to assets, consumption and income == #\n",
    "assets = xp[0, :]           # a_t\n",
    "c = up.flatten() + c_bar    # c_t\n",
    "income = wp[0, 1:] + mu     # y_t\n",
    "\n",
    "# == Plot results == #\n",
    "n_rows = 2\n",
    "fig, axes = plt.subplots(n_rows, 1, figsize=(12, 10))\n",
    "\n",
    "plt.subplots_adjust(hspace=0.5)\n",
    "for i in range(n_rows):\n",
    "    axes[i].grid()\n",
    "    axes[i].set_xlabel(r'Time')\n",
    "bbox = (0., 1.02, 1., .102)\n",
    "legend_args = {'bbox_to_anchor': bbox, 'loc': 3, 'mode': 'expand'}\n",
    "p_args = {'lw': 2, 'alpha': 0.7}\n",
    "\n",
    "axes[0].plot(list(range(1, T+1)), income, 'g-', label=\"non-financial income\",\n",
    "             **p_args)\n",
    "axes[0].plot(list(range(T)), c, 'k-', label=\"consumption\", **p_args)\n",
    "axes[0].legend(ncol=2, **legend_args)\n",
    "\n",
    "axes[1].plot(list(range(1, T+1)), np.cumsum(income - mu), 'r-',\n",
    "             label=\"cumulative unanticipated income\", **p_args)\n",
    "axes[1].plot(list(range(T+1)), assets, 'b-', label=\"assets\", **p_args)\n",
    "axes[1].plot(list(range(T)), np.zeros(T), 'k-')\n",
    "axes[1].legend(ncol=2, **legend_args)\n",
    "\n",
    "plt.show()"
   ]
  },
  {
   "cell_type": "markdown",
   "metadata": {},
   "source": [
    "## The [ipython gallery](https://github.com/ipython/ipython/wiki/A-gallery-of-interesting-IPython-Notebooks)\n",
    "* Has a growing number of jupyter notebooks that have interesting material on material ranging from MCMC to genomics and from neural networks to computer vision"
   ]
  },
  {
   "cell_type": "code",
   "execution_count": null,
   "metadata": {
    "collapsed": true
   },
   "outputs": [],
   "source": []
  }
 ],
 "metadata": {
  "kernelspec": {
   "display_name": "Python 3",
   "language": "python",
   "name": "python3"
  },
  "language_info": {
   "codemirror_mode": {
    "name": "ipython",
    "version": 3
   },
   "file_extension": ".py",
   "mimetype": "text/x-python",
   "name": "python",
   "nbconvert_exporter": "python",
   "pygments_lexer": "ipython3",
   "version": "3.5.1"
  }
 },
 "nbformat": 4,
 "nbformat_minor": 0
}
